{
 "cells": [
  {
   "cell_type": "code",
   "execution_count": 1,
   "id": "d1f8f6bf",
   "metadata": {
    "_cell_guid": "b1076dfc-b9ad-4769-8c92-a6c4dae69d19",
    "_uuid": "8f2839f25d086af736a60e9eeb907d3b93b6e0e5",
    "execution": {
     "iopub.execute_input": "2025-07-17T21:51:16.223859Z",
     "iopub.status.busy": "2025-07-17T21:51:16.223553Z",
     "iopub.status.idle": "2025-07-17T21:51:21.841940Z",
     "shell.execute_reply": "2025-07-17T21:51:21.840935Z"
    },
    "papermill": {
     "duration": 5.625938,
     "end_time": "2025-07-17T21:51:21.843716",
     "exception": false,
     "start_time": "2025-07-17T21:51:16.217778",
     "status": "completed"
    },
    "tags": []
   },
   "outputs": [],
   "source": [
    "import os\n",
    "import warnings\n",
    "from pathlib import Path\n",
    "\n",
    "import matplotlib.pyplot as plt\n",
    "import numpy as np\n",
    "import pandas as pd\n",
    "\n",
    "from sklearn.preprocessing import OrdinalEncoder\n",
    "from sklearn.ensemble import RandomForestRegressor\n",
    "from sklearn.metrics import mean_absolute_error\n",
    "from sklearn.preprocessing import OneHotEncoder\n",
    "from sklearn.tree import DecisionTreeRegressor\n",
    "from sklearn.model_selection import train_test_split\n",
    "from sklearn.metrics import mean_absolute_error\n",
    "from sklearn.model_selection import cross_val_score\n",
    "from sklearn.cluster import KMeans\n",
    "\n",
    "from sklearn.compose import ColumnTransformer\n",
    "from sklearn.pipeline import Pipeline\n",
    "from sklearn.impute import SimpleImputer\n",
    "from sklearn.preprocessing import OneHotEncoder\n",
    "from xgboost import XGBRegressor\n",
    "\n",
    "# Setup feedback system\n",
    "from learntools.core import binder\n",
    "binder.bind(globals())\n",
    "from learntools.feature_engineering_new.ex2 import *\n",
    "\n",
    "import seaborn as sns\n",
    "from sklearn.feature_selection import mutual_info_regression"
   ]
  },
  {
   "cell_type": "markdown",
   "id": "f8908923",
   "metadata": {
    "papermill": {
     "duration": 0.003418,
     "end_time": "2025-07-17T21:51:21.851268",
     "exception": false,
     "start_time": "2025-07-17T21:51:21.847850",
     "status": "completed"
    },
    "tags": []
   },
   "source": [
    "<h2>Utility functions</h2>"
   ]
  },
  {
   "cell_type": "code",
   "execution_count": 2,
   "id": "85c28507",
   "metadata": {
    "execution": {
     "iopub.execute_input": "2025-07-17T21:51:21.860493Z",
     "iopub.status.busy": "2025-07-17T21:51:21.860032Z",
     "iopub.status.idle": "2025-07-17T21:51:21.873267Z",
     "shell.execute_reply": "2025-07-17T21:51:21.872173Z"
    },
    "papermill": {
     "duration": 0.019673,
     "end_time": "2025-07-17T21:51:21.874754",
     "exception": false,
     "start_time": "2025-07-17T21:51:21.855081",
     "status": "completed"
    },
    "tags": []
   },
   "outputs": [
    {
     "name": "stderr",
     "output_type": "stream",
     "text": [
      "/tmp/ipykernel_13/3880581003.py:2: MatplotlibDeprecationWarning: The seaborn styles shipped by Matplotlib are deprecated since 3.6, as they no longer correspond to the styles shipped by seaborn. However, they will remain available as 'seaborn-v0_8-<style>'. Alternatively, directly use the seaborn API instead.\n",
      "  plt.style.use(\"seaborn-whitegrid\")\n"
     ]
    }
   ],
   "source": [
    "# Set Matplotlib defaults\n",
    "plt.style.use(\"seaborn-whitegrid\")\n",
    "plt.rc(\"figure\", autolayout=True)\n",
    "plt.rc(\n",
    "    \"axes\",\n",
    "    labelweight=\"bold\",\n",
    "    labelsize=\"large\",\n",
    "    titleweight=\"bold\",\n",
    "    titlesize=14,\n",
    "    titlepad=10,\n",
    ")\n",
    "\n",
    "# Utility functions from Tutorial\n",
    "def make_mi_scores(X, y):\n",
    "    X = X.copy()\n",
    "    for colname in X.select_dtypes([\"object\", \"category\"]):\n",
    "        X[colname], _ = X[colname].factorize()\n",
    "    # All discrete features should now have integer dtypes\n",
    "    discrete_features = [pd.api.types.is_integer_dtype(t) for t in X.dtypes]\n",
    "    mi_scores = mutual_info_regression(X, y, discrete_features=discrete_features, random_state=0)\n",
    "    mi_scores = pd.Series(mi_scores, name=\"MI Scores\", index=X.columns)\n",
    "    mi_scores = mi_scores.sort_values(ascending=False)\n",
    "    return mi_scores\n",
    "\n",
    "\n",
    "def plot_mi_scores(scores):\n",
    "    scores = scores.sort_values(ascending=True)\n",
    "    width = np.arange(len(scores))\n",
    "    ticks = list(scores.index)\n",
    "    plt.barh(width, scores)\n",
    "    plt.yticks(width, ticks)\n",
    "    plt.title(\"Mutual Information Scores\")\n",
    "\n",
    "\n",
    "\n",
    "def get_mae(max_leaf_nodes, train_X, val_X, train_y, val_y):\n",
    "    model = DecisionTreeRegressor(max_leaf_nodes=max_leaf_nodes, random_state=0)\n",
    "    model.fit(train_X, train_y)\n",
    "    preds_val = model.predict(val_X)\n",
    "    mae = mean_absolute_error(val_y, preds_val)\n",
    "    return(mae)\n",
    "\n",
    "def score_dataset(X, y, model=XGBRegressor()):\n",
    "    # Label encoding for categoricals\n",
    "    for colname in X.select_dtypes([\"category\", \"object\"]):\n",
    "        X[colname], _ = X[colname].factorize()\n",
    "    # Metric for Housing competition is RMSLE (Root Mean Squared Log Error)\n",
    "    score = cross_val_score(\n",
    "        model, X, y, cv=5, scoring=\"neg_mean_squared_log_error\",\n",
    "    )\n",
    "    score = -1 * score.mean()\n",
    "    score = np.sqrt(score)\n",
    "    return score\n",
    "\n",
    "def get_score(n_estimators):\n",
    "    \"\"\"Return the average MAE over 3 CV folds of random forest model.\n",
    "    \n",
    "    Keyword argument:\n",
    "    n_estimators -- the number of trees in the forest\n",
    "    \"\"\"\n",
    "    my_pipeline = Pipeline(steps=[\n",
    "        ('preprocessor', OrdinalEncoder(handle_unknown='use_encoded_value', unknown_value=-1)),\n",
    "        ('model', RandomForestRegressor(n_estimators=n_estimators, random_state=0))\n",
    "    ])\n",
    "    scores = -1 * cross_val_score(my_pipeline, X_train, y_train,\n",
    "                              cv=3,\n",
    "                              scoring='neg_mean_absolute_error')\n",
    "    return scores.mean()\n",
    "\n"
   ]
  },
  {
   "cell_type": "markdown",
   "id": "3c8e9b7a",
   "metadata": {
    "papermill": {
     "duration": 0.003473,
     "end_time": "2025-07-17T21:51:21.882188",
     "exception": false,
     "start_time": "2025-07-17T21:51:21.878715",
     "status": "completed"
    },
    "tags": []
   },
   "source": [
    "<h2>Reading the data and preprocessing</h2>"
   ]
  },
  {
   "cell_type": "code",
   "execution_count": 3,
   "id": "f6749586",
   "metadata": {
    "execution": {
     "iopub.execute_input": "2025-07-17T21:51:21.890822Z",
     "iopub.status.busy": "2025-07-17T21:51:21.890499Z",
     "iopub.status.idle": "2025-07-17T21:51:22.262985Z",
     "shell.execute_reply": "2025-07-17T21:51:22.261676Z"
    },
    "papermill": {
     "duration": 0.378722,
     "end_time": "2025-07-17T21:51:22.264648",
     "exception": false,
     "start_time": "2025-07-17T21:51:21.885926",
     "status": "completed"
    },
    "tags": []
   },
   "outputs": [],
   "source": [
    "#Read data\n",
    "# Read the data\n",
    "X_full = pd.read_csv('/kaggle/input/playground-series-s4e4/train.csv', index_col='id')\n",
    "X_test_full = pd.read_csv('/kaggle/input/playground-series-s4e4/test.csv', index_col='id')\n",
    "X_full_copy = X_full.copy()\n",
    "# Remove rows with missing target, separate target from predictors\n",
    "X_full.dropna(axis=0, subset=['Rings'], inplace=True)\n",
    "y = X_full.Rings\n",
    "X_full.drop(['Rings'], axis=1, inplace=True)"
   ]
  },
  {
   "cell_type": "code",
   "execution_count": 4,
   "id": "34227b33",
   "metadata": {
    "execution": {
     "iopub.execute_input": "2025-07-17T21:51:22.274056Z",
     "iopub.status.busy": "2025-07-17T21:51:22.273639Z",
     "iopub.status.idle": "2025-07-17T21:51:24.655167Z",
     "shell.execute_reply": "2025-07-17T21:51:24.654156Z"
    },
    "papermill": {
     "duration": 2.388992,
     "end_time": "2025-07-17T21:51:24.657476",
     "exception": false,
     "start_time": "2025-07-17T21:51:22.268484",
     "status": "completed"
    },
    "tags": []
   },
   "outputs": [
    {
     "data": {
      "text/plain": [
       "array([[<Axes: title={'center': 'Length'}>,\n",
       "        <Axes: title={'center': 'Diameter'}>,\n",
       "        <Axes: title={'center': 'Height'}>],\n",
       "       [<Axes: title={'center': 'Whole weight'}>,\n",
       "        <Axes: title={'center': 'Whole weight.1'}>,\n",
       "        <Axes: title={'center': 'Whole weight.2'}>],\n",
       "       [<Axes: title={'center': 'Shell weight'}>,\n",
       "        <Axes: title={'center': 'Rings'}>, <Axes: >]], dtype=object)"
      ]
     },
     "execution_count": 4,
     "metadata": {},
     "output_type": "execute_result"
    },
    {
     "data": {
      "image/png": "[encoded data removed]",
      "text/plain": [
       "<Figure size 640x480 with 9 Axes>"
      ]
     },
     "metadata": {},
     "output_type": "display_data"
    }
   ],
   "source": [
    "X_full_copy.hist(bins=50)"
   ]
  },
  {
   "cell_type": "markdown",
   "id": "ad80717d",
   "metadata": {
    "papermill": {
     "duration": 0.004165,
     "end_time": "2025-07-17T21:51:24.667431",
     "exception": false,
     "start_time": "2025-07-17T21:51:24.663266",
     "status": "completed"
    },
    "tags": []
   },
   "source": [
    "<h2>Feature engineering (No need extensive for data processing)</h2>"
   ]
  },
  {
   "cell_type": "code",
   "execution_count": 5,
   "id": "89c701aa",
   "metadata": {
    "execution": {
     "iopub.execute_input": "2025-07-17T21:51:24.677394Z",
     "iopub.status.busy": "2025-07-17T21:51:24.677098Z",
     "iopub.status.idle": "2025-07-17T21:51:31.822021Z",
     "shell.execute_reply": "2025-07-17T21:51:31.820971Z"
    },
    "papermill": {
     "duration": 7.152033,
     "end_time": "2025-07-17T21:51:31.823797",
     "exception": false,
     "start_time": "2025-07-17T21:51:24.671764",
     "status": "completed"
    },
    "tags": []
   },
   "outputs": [],
   "source": [
    "X_full[\"Total Size\"] = (4*np.pi)*(X_full[\"Height\"]*X_full[\"Length\"]*X_full[\"Diameter\"])/3\n",
    "X_test_full[\"Total Size\"] = (4*np.pi)*(X_full[\"Height\"]*X_full[\"Length\"]*X_full[\"Diameter\"])/3\n",
    "X_full_copy[\"Total Size\"] = (4*np.pi)*(X_full[\"Height\"]*X_full[\"Length\"]*X_full[\"Diameter\"])/3\n",
    "mi_scores = make_mi_scores(X_full, y)"
   ]
  },
  {
   "cell_type": "code",
   "execution_count": 6,
   "id": "638aae98",
   "metadata": {
    "execution": {
     "iopub.execute_input": "2025-07-17T21:51:31.834412Z",
     "iopub.status.busy": "2025-07-17T21:51:31.834066Z",
     "iopub.status.idle": "2025-07-17T21:51:32.170299Z",
     "shell.execute_reply": "2025-07-17T21:51:32.169230Z"
    },
    "papermill": {
     "duration": 0.343466,
     "end_time": "2025-07-17T21:51:32.172104",
     "exception": false,
     "start_time": "2025-07-17T21:51:31.828638",
     "status": "completed"
    },
    "tags": []
   },
   "outputs": [
    {
     "name": "stdout",
     "output_type": "stream",
     "text": [
      "Shell weight      0.679544\n",
      "Total Size        0.583046\n",
      "Whole weight      0.574641\n",
      "Height            0.556323\n",
      "Diameter          0.546853\n",
      "Whole weight.2    0.544125\n",
      "Length            0.533280\n",
      "Whole weight.1    0.509264\n",
      "Sex               0.243144\n",
      "Name: MI Scores, dtype: float64\n"
     ]
    },
    {
     "data": {
      "image/png": "[encoded data removed]",
      "text/plain": [
       "<Figure size 800x500 with 1 Axes>"
      ]
     },
     "metadata": {},
     "output_type": "display_data"
    }
   ],
   "source": [
    "print(mi_scores.head(20))\n",
    "# print(mi_scores.tail(20))  # uncomment to see bottom 20\n",
    "\n",
    "plt.figure(dpi=100, figsize=(8, 5))\n",
    "plot_mi_scores(mi_scores.head(20))\n",
    "# plot_mi_scores(mi_scores.tail(20))  # uncomment to see bottom 20"
   ]
  },
  {
   "cell_type": "code",
   "execution_count": 7,
   "id": "f9840992",
   "metadata": {
    "execution": {
     "iopub.execute_input": "2025-07-17T21:51:32.184912Z",
     "iopub.status.busy": "2025-07-17T21:51:32.184571Z",
     "iopub.status.idle": "2025-07-17T21:51:32.191087Z",
     "shell.execute_reply": "2025-07-17T21:51:32.190176Z"
    },
    "papermill": {
     "duration": 0.015311,
     "end_time": "2025-07-17T21:51:32.192710",
     "exception": false,
     "start_time": "2025-07-17T21:51:32.177399",
     "status": "completed"
    },
    "tags": []
   },
   "outputs": [
    {
     "data": {
      "text/plain": [
       "'\\nfor feature in features:\\n    sns.lmplot(\\n        x=feature, y=\"Rings\", hue=\"Sex\", col=\"Sex\",\\n        data=X_full_copy, scatter_kws={\"edgecolor\": \\'w\\'}, col_wrap=3, height=4\\n    )\\n    plt.suptitle(f\\'Regression of {feature} on Rings by Sex\\', y=1.05)\\n    plt.show()\\n'"
      ]
     },
     "execution_count": 7,
     "metadata": {},
     "output_type": "execute_result"
    }
   ],
   "source": [
    "# List of features you want to plot against \"Rings\"\n",
    "features = [\"Shell weight\", \"Whole weight\", \"Total Size\"]\n",
    "\n",
    "# Loop through each feature and generate the lmplot\n",
    "\"\"\"\n",
    "for feature in features:\n",
    "    sns.lmplot(\n",
    "        x=feature, y=\"Rings\", hue=\"Sex\", col=\"Sex\",\n",
    "        data=X_full_copy, scatter_kws={\"edgecolor\": 'w'}, col_wrap=3, height=4\n",
    "    )\n",
    "    plt.suptitle(f'Regression of {feature} on Rings by Sex', y=1.05)\n",
    "    plt.show()\n",
    "\"\"\"\n"
   ]
  },
  {
   "cell_type": "code",
   "execution_count": 8,
   "id": "a6d63129",
   "metadata": {
    "execution": {
     "iopub.execute_input": "2025-07-17T21:51:32.205274Z",
     "iopub.status.busy": "2025-07-17T21:51:32.204376Z",
     "iopub.status.idle": "2025-07-17T21:51:32.210736Z",
     "shell.execute_reply": "2025-07-17T21:51:32.209783Z"
    },
    "papermill": {
     "duration": 0.014094,
     "end_time": "2025-07-17T21:51:32.212342",
     "exception": false,
     "start_time": "2025-07-17T21:51:32.198248",
     "status": "completed"
    },
    "tags": []
   },
   "outputs": [
    {
     "data": {
      "text/plain": [
       "\"\\n# One-hot encode the 'Sex' column\\nX_full_copy = pd.get_dummies(X_full_copy, columns=['Sex'], drop_first=True)\\n\\n# Now we have Sex_M and Sex_I (Sex_F is dropped due to drop_first=True)\\n# Create the interaction terms between each Sex category and Whole weight\\nX_full_copy['Sex_M_WholeWeight_Interaction'] = X_full_copy['Sex_M'] * X_full_copy['Whole weight']\\nX_full_copy['Sex_I_WholeWeight_Interaction'] = X_full_copy['Sex_I'] * X_full_copy['Whole weight']\\n\\n# Check the new dataframe with the interaction terms\\nprint(X_full_copy[['Sex_M', 'Sex_I', 'Whole weight', 'Sex_M_WholeWeight_Interaction', 'Sex_I_WholeWeight_Interaction']].head())\\n\\n\""
      ]
     },
     "execution_count": 8,
     "metadata": {},
     "output_type": "execute_result"
    }
   ],
   "source": [
    "\"\"\"\n",
    "# One-hot encode the 'Sex' column\n",
    "X_full_copy = pd.get_dummies(X_full_copy, columns=['Sex'], drop_first=True)\n",
    "\n",
    "# Now we have Sex_M and Sex_I (Sex_F is dropped due to drop_first=True)\n",
    "# Create the interaction terms between each Sex category and Whole weight\n",
    "X_full_copy['Sex_M_WholeWeight_Interaction'] = X_full_copy['Sex_M'] * X_full_copy['Whole weight']\n",
    "X_full_copy['Sex_I_WholeWeight_Interaction'] = X_full_copy['Sex_I'] * X_full_copy['Whole weight']\n",
    "\n",
    "# Check the new dataframe with the interaction terms\n",
    "print(X_full_copy[['Sex_M', 'Sex_I', 'Whole weight', 'Sex_M_WholeWeight_Interaction', 'Sex_I_WholeWeight_Interaction']].head())\n",
    "\n",
    "\"\"\"\n"
   ]
  },
  {
   "cell_type": "code",
   "execution_count": 9,
   "id": "e3080cf6",
   "metadata": {
    "execution": {
     "iopub.execute_input": "2025-07-17T21:51:32.224853Z",
     "iopub.status.busy": "2025-07-17T21:51:32.224535Z",
     "iopub.status.idle": "2025-07-17T21:51:32.231771Z",
     "shell.execute_reply": "2025-07-17T21:51:32.230821Z"
    },
    "papermill": {
     "duration": 0.016607,
     "end_time": "2025-07-17T21:51:32.234386",
     "exception": false,
     "start_time": "2025-07-17T21:51:32.217779",
     "status": "completed"
    },
    "tags": []
   },
   "outputs": [
    {
     "data": {
      "text/plain": [
       "'\\n\\nX_features = X_full_copy.loc[:, features]\\nkmeans = KMeans(n_clusters=10, n_init=10, random_state=0)\\nX_full_copy[\"Cluster\"] = kmeans.fit_predict(X_features)\\n\\nX_full_copy.head()\\n\\n'"
      ]
     },
     "execution_count": 9,
     "metadata": {},
     "output_type": "execute_result"
    }
   ],
   "source": [
    "\"\"\"\n",
    "\n",
    "X_features = X_full_copy.loc[:, features]\n",
    "kmeans = KMeans(n_clusters=10, n_init=10, random_state=0)\n",
    "X_full_copy[\"Cluster\"] = kmeans.fit_predict(X_features)\n",
    "\n",
    "X_full_copy.head()\n",
    "\n",
    "\"\"\"\n"
   ]
  },
  {
   "cell_type": "code",
   "execution_count": 10,
   "id": "e98d7ec7",
   "metadata": {
    "execution": {
     "iopub.execute_input": "2025-07-17T21:51:32.247512Z",
     "iopub.status.busy": "2025-07-17T21:51:32.247208Z",
     "iopub.status.idle": "2025-07-17T21:51:32.253508Z",
     "shell.execute_reply": "2025-07-17T21:51:32.252120Z"
    },
    "papermill": {
     "duration": 0.014983,
     "end_time": "2025-07-17T21:51:32.255283",
     "exception": false,
     "start_time": "2025-07-17T21:51:32.240300",
     "status": "completed"
    },
    "tags": []
   },
   "outputs": [
    {
     "data": {
      "text/plain": [
       "'\\nXy = X_full_copy.copy()\\nXy[\"Cluster\"] = Xy.Cluster.astype(\"category\")\\nXy[\"SalePrice\"] = y\\nsns.relplot(\\n    x=\"value\", y=\"Rings\", hue=\"Cluster\", col=\"variable\",\\n    height=4, aspect=1, facet_kws={\\'sharex\\': False}, col_wrap=3,\\n    data=Xy.melt(\\n        value_vars=features, id_vars=[\"Rings\", \"Cluster\"],\\n    ),\\n);\\n'"
      ]
     },
     "execution_count": 10,
     "metadata": {},
     "output_type": "execute_result"
    }
   ],
   "source": [
    "\"\"\"\n",
    "Xy = X_full_copy.copy()\n",
    "Xy[\"Cluster\"] = Xy.Cluster.astype(\"category\")\n",
    "Xy[\"SalePrice\"] = y\n",
    "sns.relplot(\n",
    "    x=\"value\", y=\"Rings\", hue=\"Cluster\", col=\"variable\",\n",
    "    height=4, aspect=1, facet_kws={'sharex': False}, col_wrap=3,\n",
    "    data=Xy.melt(\n",
    "        value_vars=features, id_vars=[\"Rings\", \"Cluster\"],\n",
    "    ),\n",
    ");\n",
    "\"\"\"\n",
    "\n"
   ]
  },
  {
   "cell_type": "code",
   "execution_count": 11,
   "id": "2576396a",
   "metadata": {
    "execution": {
     "iopub.execute_input": "2025-07-17T21:51:32.270027Z",
     "iopub.status.busy": "2025-07-17T21:51:32.269672Z",
     "iopub.status.idle": "2025-07-17T21:51:32.302369Z",
     "shell.execute_reply": "2025-07-17T21:51:32.301472Z"
    },
    "papermill": {
     "duration": 0.043148,
     "end_time": "2025-07-17T21:51:32.304321",
     "exception": false,
     "start_time": "2025-07-17T21:51:32.261173",
     "status": "completed"
    },
    "tags": []
   },
   "outputs": [],
   "source": [
    "#Break off validation set from training data\n",
    "X_train, X_valid, y_train, y_valid = train_test_split(X_full, y, train_size=0.8, test_size=0.2,\n",
    "                                                      random_state=0)"
   ]
  },
  {
   "cell_type": "code",
   "execution_count": 12,
   "id": "87ddd01a",
   "metadata": {
    "execution": {
     "iopub.execute_input": "2025-07-17T21:51:32.321780Z",
     "iopub.status.busy": "2025-07-17T21:51:32.320942Z",
     "iopub.status.idle": "2025-07-17T21:51:36.003662Z",
     "shell.execute_reply": "2025-07-17T21:51:36.002940Z"
    },
    "papermill": {
     "duration": 3.692311,
     "end_time": "2025-07-17T21:51:36.005500",
     "exception": false,
     "start_time": "2025-07-17T21:51:32.313189",
     "status": "completed"
    },
    "tags": []
   },
   "outputs": [
    {
     "data": {
      "text/plain": [
       "0.1512916569359362"
      ]
     },
     "execution_count": 12,
     "metadata": {},
     "output_type": "execute_result"
    }
   ],
   "source": [
    "score_dataset(X_full, y)"
   ]
  },
  {
   "cell_type": "code",
   "execution_count": 13,
   "id": "1061a173",
   "metadata": {
    "execution": {
     "iopub.execute_input": "2025-07-17T21:51:36.017822Z",
     "iopub.status.busy": "2025-07-17T21:51:36.017510Z",
     "iopub.status.idle": "2025-07-17T21:51:36.021693Z",
     "shell.execute_reply": "2025-07-17T21:51:36.020845Z"
    },
    "papermill": {
     "duration": 0.01219,
     "end_time": "2025-07-17T21:51:36.023188",
     "exception": false,
     "start_time": "2025-07-17T21:51:36.010998",
     "status": "completed"
    },
    "tags": []
   },
   "outputs": [],
   "source": [
    "model_XGB = XGBRegressor(random_state=0)\n"
   ]
  },
  {
   "cell_type": "code",
   "execution_count": 14,
   "id": "065009ac",
   "metadata": {
    "execution": {
     "iopub.execute_input": "2025-07-17T21:51:36.035173Z",
     "iopub.status.busy": "2025-07-17T21:51:36.034819Z",
     "iopub.status.idle": "2025-07-17T21:51:36.039241Z",
     "shell.execute_reply": "2025-07-17T21:51:36.038439Z"
    },
    "papermill": {
     "duration": 0.012023,
     "end_time": "2025-07-17T21:51:36.040681",
     "exception": false,
     "start_time": "2025-07-17T21:51:36.028658",
     "status": "completed"
    },
    "tags": []
   },
   "outputs": [],
   "source": [
    "# Create the pipeline\n",
    "final_pipeline = Pipeline(steps=[\n",
    "    ('preprocessor', OrdinalEncoder(handle_unknown='use_encoded_value', unknown_value=-1)),\n",
    "    ('model', model_XGB)\n",
    "])\n"
   ]
  },
  {
   "cell_type": "markdown",
   "id": "bb18c869",
   "metadata": {
    "papermill": {
     "duration": 0.004959,
     "end_time": "2025-07-17T21:51:36.050990",
     "exception": false,
     "start_time": "2025-07-17T21:51:36.046031",
     "status": "completed"
    },
    "tags": []
   },
   "source": [
    "<h2>Train a model for the competion</h2>"
   ]
  },
  {
   "cell_type": "code",
   "execution_count": 15,
   "id": "c2289c72",
   "metadata": {
    "execution": {
     "iopub.execute_input": "2025-07-17T21:51:36.063201Z",
     "iopub.status.busy": "2025-07-17T21:51:36.062415Z",
     "iopub.status.idle": "2025-07-17T21:51:36.984849Z",
     "shell.execute_reply": "2025-07-17T21:51:36.983832Z"
    },
    "papermill": {
     "duration": 0.930323,
     "end_time": "2025-07-17T21:51:36.986466",
     "exception": false,
     "start_time": "2025-07-17T21:51:36.056143",
     "status": "completed"
    },
    "tags": []
   },
   "outputs": [
    {
     "name": "stdout",
     "output_type": "stream",
     "text": [
      "Predictions saved to 'submission.csv'\n"
     ]
    }
   ],
   "source": [
    "final_pipeline.fit(X_full, y)\n",
    "# 2. Select numeric columns from the test data\n",
    "test_preds = final_pipeline.predict(X_test_full)\n",
    "# 3. Make predictions on the test data\n",
    "# 4. Create the output DataFrame for submission\n",
    "output = pd.DataFrame({'id': X_test_full.index, \n",
    "                       'Rings': test_preds})\n",
    "\n",
    "# 5. Save the predictions to a CSV file for submission\n",
    "output.to_csv('submission.csv', index=False)\n",
    "\n",
    "print(\"Predictions saved to 'submission.csv'\")"
   ]
  }
 ],
 "metadata": {
  "kaggle": {
   "accelerator": "none",
   "dataSources": [
    {
     "databundleVersionId": 8096274,
     "sourceId": 72489,
     "sourceType": "competition"
    }
   ],
   "dockerImageVersionId": 31089,
   "isGpuEnabled": false,
   "isInternetEnabled": true,
   "language": "python",
   "sourceType": "notebook"
  },
  "kernelspec": {
   "display_name": "Python 3",
   "language": "python",
   "name": "python3"
  },
  "language_info": {
   "codemirror_mode": {
    "name": "ipython",
    "version": 3
   },
   "file_extension": ".py",
   "mimetype": "text/x-python",
   "name": "python",
   "nbconvert_exporter": "python",
   "pygments_lexer": "ipython3",
   "version": "3.11.13"
  },
  "papermill": {
   "default_parameters": {},
   "duration": 26.660824,
   "end_time": "2025-07-17T21:51:37.813389",
   "environment_variables": {},
   "exception": null,
   "input_path": "__notebook__.ipynb",
   "output_path": "__notebook__.ipynb",
   "parameters": {},
   "start_time": "2025-07-17T21:51:11.152565",
   "version": "2.6.0"
  }
 },
 "nbformat": 4,
 "nbformat_minor": 5
}
