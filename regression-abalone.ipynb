{
 "cells": [
  {
   "cell_type": "code",
   "execution_count": 1,
   "id": "c7c6ec78",
   "metadata": {
    "_cell_guid": "b1076dfc-b9ad-4769-8c92-a6c4dae69d19",
    "_uuid": "8f2839f25d086af736a60e9eeb907d3b93b6e0e5",
    "execution": {
     "iopub.execute_input": "2025-07-18T19:08:53.090623Z",
     "iopub.status.busy": "2025-07-18T19:08:53.090256Z",
     "iopub.status.idle": "2025-07-18T19:08:58.501734Z",
     "shell.execute_reply": "2025-07-18T19:08:58.500839Z"
    },
    "papermill": {
     "duration": 5.419715,
     "end_time": "2025-07-18T19:08:58.503457",
     "exception": false,
     "start_time": "2025-07-18T19:08:53.083742",
     "status": "completed"
    },
    "tags": []
   },
   "outputs": [],
   "source": [
    "import os\n",
    "import warnings\n",
    "from pathlib import Path\n",
    "\n",
    "import matplotlib.pyplot as plt\n",
    "import numpy as np\n",
    "import pandas as pd\n",
    "\n",
    "from sklearn.preprocessing import OrdinalEncoder\n",
    "from sklearn.ensemble import RandomForestRegressor\n",
    "from sklearn.metrics import mean_absolute_error\n",
    "from sklearn.preprocessing import OneHotEncoder\n",
    "from sklearn.tree import DecisionTreeRegressor\n",
    "from sklearn.model_selection import train_test_split, GridSearchCV\n",
    "from sklearn.metrics import mean_absolute_error\n",
    "from sklearn.model_selection import cross_val_score\n",
    "from sklearn.cluster import KMeans\n",
    "\n",
    "from sklearn.compose import ColumnTransformer\n",
    "from sklearn.pipeline import Pipeline\n",
    "from sklearn.impute import SimpleImputer\n",
    "from sklearn.preprocessing import OneHotEncoder\n",
    "from xgboost import XGBRegressor\n",
    "\n",
    "# Setup feedback system\n",
    "from learntools.core import binder\n",
    "binder.bind(globals())\n",
    "from learntools.feature_engineering_new.ex2 import *\n",
    "\n",
    "import seaborn as sns\n",
    "from sklearn.feature_selection import mutual_info_regression\n",
    "from sklearn.decomposition import PCA"
   ]
  },
  {
   "cell_type": "markdown",
   "id": "41ab8858",
   "metadata": {
    "papermill": {
     "duration": 0.004442,
     "end_time": "2025-07-18T19:08:58.512844",
     "exception": false,
     "start_time": "2025-07-18T19:08:58.508402",
     "status": "completed"
    },
    "tags": []
   },
   "source": [
    "<h2>Utility functions</h2>"
   ]
  },
  {
   "cell_type": "code",
   "execution_count": 2,
   "id": "814063e4",
   "metadata": {
    "execution": {
     "iopub.execute_input": "2025-07-18T19:08:58.523320Z",
     "iopub.status.busy": "2025-07-18T19:08:58.522578Z",
     "iopub.status.idle": "2025-07-18T19:08:58.536196Z",
     "shell.execute_reply": "2025-07-18T19:08:58.535242Z"
    },
    "papermill": {
     "duration": 0.020462,
     "end_time": "2025-07-18T19:08:58.537703",
     "exception": false,
     "start_time": "2025-07-18T19:08:58.517241",
     "status": "completed"
    },
    "tags": []
   },
   "outputs": [
    {
     "name": "stderr",
     "output_type": "stream",
     "text": [
      "/tmp/ipykernel_13/3017886777.py:2: MatplotlibDeprecationWarning: The seaborn styles shipped by Matplotlib are deprecated since 3.6, as they no longer correspond to the styles shipped by seaborn. However, they will remain available as 'seaborn-v0_8-<style>'. Alternatively, directly use the seaborn API instead.\n",
      "  plt.style.use(\"seaborn-whitegrid\")\n"
     ]
    }
   ],
   "source": [
    "# Set Matplotlib defaults\n",
    "plt.style.use(\"seaborn-whitegrid\")\n",
    "plt.rc(\"figure\", autolayout=True)\n",
    "plt.rc(\n",
    "    \"axes\",\n",
    "    labelweight=\"bold\",\n",
    "    labelsize=\"large\",\n",
    "    titleweight=\"bold\",\n",
    "    titlesize=14,\n",
    "    titlepad=10,\n",
    ")\n",
    "\n",
    "# Utility functions from Tutorial\n",
    "def make_mi_scores(X, y, descrete_features):\n",
    "    X = X.copy()\n",
    "    for colname in X.select_dtypes([\"object\", \"category\"]):\n",
    "        X[colname], _ = X[colname].factorize()\n",
    "    # All discrete features should now have integer dtypes\n",
    "    discrete_features = [pd.api.types.is_integer_dtype(t) for t in X.dtypes]\n",
    "    mi_scores = mutual_info_regression(X, y, discrete_features=discrete_features, random_state=0)\n",
    "    mi_scores = pd.Series(mi_scores, name=\"MI Scores\", index=X.columns)\n",
    "    mi_scores = mi_scores.sort_values(ascending=False)\n",
    "    return mi_scores\n",
    "\n",
    "\n",
    "def plot_mi_scores(scores):\n",
    "    scores = scores.sort_values(ascending=True)\n",
    "    width = np.arange(len(scores))\n",
    "    ticks = list(scores.index)\n",
    "    plt.barh(width, scores)\n",
    "    plt.yticks(width, ticks)\n",
    "    plt.title(\"Mutual Information Scores\")\n",
    "\n",
    "\n",
    "\n",
    "def get_mae(max_leaf_nodes, train_X, val_X, train_y, val_y):\n",
    "    model = DecisionTreeRegressor(max_leaf_nodes=max_leaf_nodes, random_state=0)\n",
    "    model.fit(train_X, train_y)\n",
    "    preds_val = model.predict(val_X)\n",
    "    mae = mean_absolute_error(val_y, preds_val)\n",
    "    return(mae)\n",
    "\n",
    "def score_dataset(X, y, model=XGBRegressor()):\n",
    "    # Label encoding for categoricals\n",
    "    for colname in X.select_dtypes([\"category\", \"object\"]):\n",
    "        X[colname], _ = X[colname].factorize()\n",
    "    # Metric for Housing competition is RMSLE (Root Mean Squared Log Error)\n",
    "    score = cross_val_score(\n",
    "        model, X, y, cv=5, scoring=\"neg_mean_squared_log_error\",\n",
    "    )\n",
    "    score = -1 * score.mean()\n",
    "    score = np.sqrt(score)\n",
    "    return score\n",
    "\n",
    "def get_score(n_estimators):\n",
    "    \"\"\"Return the average MAE over 3 CV folds of random forest model.\n",
    "    \n",
    "    Keyword argument:\n",
    "    n_estimators -- the number of trees in the forest\n",
    "    \"\"\"\n",
    "    my_pipeline = Pipeline(steps=[\n",
    "        ('preprocessor', OrdinalEncoder(handle_unknown='use_encoded_value', unknown_value=-1)),\n",
    "        ('model', RandomForestRegressor(n_estimators=n_estimators, random_state=0))\n",
    "    ])\n",
    "    scores = -1 * cross_val_score(my_pipeline, X_train, y_train,\n",
    "                              cv=3,\n",
    "                              scoring='neg_mean_absolute_error')\n",
    "    return scores.mean()\n",
    "\n"
   ]
  },
  {
   "cell_type": "markdown",
   "id": "003af955",
   "metadata": {
    "papermill": {
     "duration": 0.003917,
     "end_time": "2025-07-18T19:08:58.546046",
     "exception": false,
     "start_time": "2025-07-18T19:08:58.542129",
     "status": "completed"
    },
    "tags": []
   },
   "source": [
    "<h2>Reading the data and a look at the data structure</h2>"
   ]
  },
  {
   "cell_type": "code",
   "execution_count": 3,
   "id": "d995dd85",
   "metadata": {
    "execution": {
     "iopub.execute_input": "2025-07-18T19:08:58.555823Z",
     "iopub.status.busy": "2025-07-18T19:08:58.555469Z",
     "iopub.status.idle": "2025-07-18T19:08:58.907702Z",
     "shell.execute_reply": "2025-07-18T19:08:58.906798Z"
    },
    "papermill": {
     "duration": 0.359224,
     "end_time": "2025-07-18T19:08:58.909390",
     "exception": false,
     "start_time": "2025-07-18T19:08:58.550166",
     "status": "completed"
    },
    "tags": []
   },
   "outputs": [
    {
     "data": {
      "text/html": [
       "<div>\n",
       "<style scoped>\n",
       "    .dataframe tbody tr th:only-of-type {\n",
       "        vertical-align: middle;\n",
       "    }\n",
       "\n",
       "    .dataframe tbody tr th {\n",
       "        vertical-align: top;\n",
       "    }\n",
       "\n",
       "    .dataframe thead th {\n",
       "        text-align: right;\n",
       "    }\n",
       "</style>\n",
       "<table border=\"1\" class=\"dataframe\">\n",
       "  <thead>\n",
       "    <tr style=\"text-align: right;\">\n",
       "      <th></th>\n",
       "      <th>Sex</th>\n",
       "      <th>Length</th>\n",
       "      <th>Diameter</th>\n",
       "      <th>Height</th>\n",
       "      <th>Whole weight</th>\n",
       "      <th>Whole weight.1</th>\n",
       "      <th>Whole weight.2</th>\n",
       "      <th>Shell weight</th>\n",
       "    </tr>\n",
       "    <tr>\n",
       "      <th>id</th>\n",
       "      <th></th>\n",
       "      <th></th>\n",
       "      <th></th>\n",
       "      <th></th>\n",
       "      <th></th>\n",
       "      <th></th>\n",
       "      <th></th>\n",
       "      <th></th>\n",
       "    </tr>\n",
       "  </thead>\n",
       "  <tbody>\n",
       "    <tr>\n",
       "      <th>0</th>\n",
       "      <td>F</td>\n",
       "      <td>0.550</td>\n",
       "      <td>0.430</td>\n",
       "      <td>0.150</td>\n",
       "      <td>0.7715</td>\n",
       "      <td>0.3285</td>\n",
       "      <td>0.1465</td>\n",
       "      <td>0.2400</td>\n",
       "    </tr>\n",
       "    <tr>\n",
       "      <th>1</th>\n",
       "      <td>F</td>\n",
       "      <td>0.630</td>\n",
       "      <td>0.490</td>\n",
       "      <td>0.145</td>\n",
       "      <td>1.1300</td>\n",
       "      <td>0.4580</td>\n",
       "      <td>0.2765</td>\n",
       "      <td>0.3200</td>\n",
       "    </tr>\n",
       "    <tr>\n",
       "      <th>2</th>\n",
       "      <td>I</td>\n",
       "      <td>0.160</td>\n",
       "      <td>0.110</td>\n",
       "      <td>0.025</td>\n",
       "      <td>0.0210</td>\n",
       "      <td>0.0055</td>\n",
       "      <td>0.0030</td>\n",
       "      <td>0.0050</td>\n",
       "    </tr>\n",
       "    <tr>\n",
       "      <th>3</th>\n",
       "      <td>M</td>\n",
       "      <td>0.595</td>\n",
       "      <td>0.475</td>\n",
       "      <td>0.150</td>\n",
       "      <td>0.9145</td>\n",
       "      <td>0.3755</td>\n",
       "      <td>0.2055</td>\n",
       "      <td>0.2500</td>\n",
       "    </tr>\n",
       "    <tr>\n",
       "      <th>4</th>\n",
       "      <td>I</td>\n",
       "      <td>0.555</td>\n",
       "      <td>0.425</td>\n",
       "      <td>0.130</td>\n",
       "      <td>0.7820</td>\n",
       "      <td>0.3695</td>\n",
       "      <td>0.1600</td>\n",
       "      <td>0.1975</td>\n",
       "    </tr>\n",
       "  </tbody>\n",
       "</table>\n",
       "</div>"
      ],
      "text/plain": [
       "   Sex  Length  Diameter  Height  Whole weight  Whole weight.1  \\\n",
       "id                                                               \n",
       "0    F   0.550     0.430   0.150        0.7715          0.3285   \n",
       "1    F   0.630     0.490   0.145        1.1300          0.4580   \n",
       "2    I   0.160     0.110   0.025        0.0210          0.0055   \n",
       "3    M   0.595     0.475   0.150        0.9145          0.3755   \n",
       "4    I   0.555     0.425   0.130        0.7820          0.3695   \n",
       "\n",
       "    Whole weight.2  Shell weight  \n",
       "id                                \n",
       "0           0.1465        0.2400  \n",
       "1           0.2765        0.3200  \n",
       "2           0.0030        0.0050  \n",
       "3           0.2055        0.2500  \n",
       "4           0.1600        0.1975  "
      ]
     },
     "execution_count": 3,
     "metadata": {},
     "output_type": "execute_result"
    }
   ],
   "source": [
    "#Read data\n",
    "# Read the data\n",
    "X_full = pd.read_csv('/kaggle/input/playground-series-s4e4/train.csv', index_col='id')\n",
    "X_test_full = pd.read_csv('/kaggle/input/playground-series-s4e4/test.csv', index_col='id')\n",
    "X_full_copy = X_full.copy()\n",
    "# Remove rows with missing target, separate target from predictors\n",
    "X_full.dropna(axis=0, subset=['Rings'], inplace=True)\n",
    "y = X_full.Rings\n",
    "X_full.drop(['Rings'], axis=1, inplace=True)\n",
    "\n",
    "X_full.head()"
   ]
  },
  {
   "cell_type": "code",
   "execution_count": 4,
   "id": "079a5254",
   "metadata": {
    "execution": {
     "iopub.execute_input": "2025-07-18T19:08:58.920146Z",
     "iopub.status.busy": "2025-07-18T19:08:58.919776Z",
     "iopub.status.idle": "2025-07-18T19:08:58.949559Z",
     "shell.execute_reply": "2025-07-18T19:08:58.948376Z"
    },
    "papermill": {
     "duration": 0.036975,
     "end_time": "2025-07-18T19:08:58.951174",
     "exception": false,
     "start_time": "2025-07-18T19:08:58.914199",
     "status": "completed"
    },
    "tags": []
   },
   "outputs": [
    {
     "name": "stdout",
     "output_type": "stream",
     "text": [
      "<class 'pandas.core.frame.DataFrame'>\n",
      "Index: 90615 entries, 0 to 90614\n",
      "Data columns (total 8 columns):\n",
      " #   Column          Non-Null Count  Dtype  \n",
      "---  ------          --------------  -----  \n",
      " 0   Sex             90615 non-null  object \n",
      " 1   Length          90615 non-null  float64\n",
      " 2   Diameter        90615 non-null  float64\n",
      " 3   Height          90615 non-null  float64\n",
      " 4   Whole weight    90615 non-null  float64\n",
      " 5   Whole weight.1  90615 non-null  float64\n",
      " 6   Whole weight.2  90615 non-null  float64\n",
      " 7   Shell weight    90615 non-null  float64\n",
      "dtypes: float64(7), object(1)\n",
      "memory usage: 6.2+ MB\n"
     ]
    }
   ],
   "source": [
    "X_full.info()"
   ]
  },
  {
   "cell_type": "code",
   "execution_count": 5,
   "id": "bcd79630",
   "metadata": {
    "execution": {
     "iopub.execute_input": "2025-07-18T19:08:58.961913Z",
     "iopub.status.busy": "2025-07-18T19:08:58.961603Z",
     "iopub.status.idle": "2025-07-18T19:09:01.122632Z",
     "shell.execute_reply": "2025-07-18T19:09:01.121640Z"
    },
    "papermill": {
     "duration": 2.168589,
     "end_time": "2025-07-18T19:09:01.124578",
     "exception": false,
     "start_time": "2025-07-18T19:08:58.955989",
     "status": "completed"
    },
    "tags": []
   },
   "outputs": [
    {
     "data": {
      "image/png": "[encoded data removed]",
      "text/plain": [
       "<Figure size 2000x1500 with 9 Axes>"
      ]
     },
     "metadata": {},
     "output_type": "display_data"
    }
   ],
   "source": [
    "X_full.hist(bins=50, figsize=(20, 15))\n",
    "plt.show()"
   ]
  },
  {
   "cell_type": "markdown",
   "id": "ff08f612",
   "metadata": {
    "papermill": {
     "duration": 0.006675,
     "end_time": "2025-07-18T19:09:01.137377",
     "exception": false,
     "start_time": "2025-07-18T19:09:01.130702",
     "status": "completed"
    },
    "tags": []
   },
   "source": [
    "<h3>Distrubution of target variable</h3>"
   ]
  },
  {
   "cell_type": "code",
   "execution_count": 6,
   "id": "7cde3864",
   "metadata": {
    "execution": {
     "iopub.execute_input": "2025-07-18T19:09:01.150756Z",
     "iopub.status.busy": "2025-07-18T19:09:01.150402Z",
     "iopub.status.idle": "2025-07-18T19:09:01.409536Z",
     "shell.execute_reply": "2025-07-18T19:09:01.408489Z"
    },
    "papermill": {
     "duration": 0.267736,
     "end_time": "2025-07-18T19:09:01.411093",
     "exception": false,
     "start_time": "2025-07-18T19:09:01.143357",
     "status": "completed"
    },
    "tags": []
   },
   "outputs": [
    {
     "data": {
      "text/plain": [
       "<Axes: >"
      ]
     },
     "execution_count": 6,
     "metadata": {},
     "output_type": "execute_result"
    },
    {
     "data": {
      "image/png": "[encoded data removed]",
      "text/plain": [
       "<Figure size 640x480 with 1 Axes>"
      ]
     },
     "metadata": {},
     "output_type": "display_data"
    }
   ],
   "source": [
    "y.hist()"
   ]
  },
  {
   "cell_type": "markdown",
   "id": "cf032e68",
   "metadata": {
    "papermill": {
     "duration": 0.005956,
     "end_time": "2025-07-18T19:09:01.423530",
     "exception": false,
     "start_time": "2025-07-18T19:09:01.417574",
     "status": "completed"
    },
    "tags": []
   },
   "source": [
    "<h2>Feature engineering (No need extensive for data processing)</h2>"
   ]
  },
  {
   "cell_type": "markdown",
   "id": "fab0a323",
   "metadata": {
    "papermill": {
     "duration": 0.006001,
     "end_time": "2025-07-18T19:09:01.435725",
     "exception": false,
     "start_time": "2025-07-18T19:09:01.429724",
     "status": "completed"
    },
    "tags": []
   },
   "source": [
    "<h4>Check correlation</h4>"
   ]
  },
  {
   "cell_type": "code",
   "execution_count": 7,
   "id": "193dd5dc",
   "metadata": {
    "execution": {
     "iopub.execute_input": "2025-07-18T19:09:01.449665Z",
     "iopub.status.busy": "2025-07-18T19:09:01.449307Z",
     "iopub.status.idle": "2025-07-18T19:09:01.482131Z",
     "shell.execute_reply": "2025-07-18T19:09:01.481201Z"
    },
    "papermill": {
     "duration": 0.041968,
     "end_time": "2025-07-18T19:09:01.483992",
     "exception": false,
     "start_time": "2025-07-18T19:09:01.442024",
     "status": "completed"
    },
    "tags": []
   },
   "outputs": [
    {
     "data": {
      "text/plain": [
       "Rings             1.000000\n",
       "Shell weight      0.694766\n",
       "Height            0.665772\n",
       "Diameter          0.636832\n",
       "Length            0.623786\n",
       "Whole weight      0.617274\n",
       "Whole weight.2    0.588954\n",
       "Whole weight.1    0.515067\n",
       "Name: Rings, dtype: float64"
      ]
     },
     "execution_count": 7,
     "metadata": {},
     "output_type": "execute_result"
    }
   ],
   "source": [
    "corr_matrix = X_full_copy.corr(numeric_only = True)\n",
    "corr_matrix[\"Rings\"].sort_values(ascending=False)"
   ]
  },
  {
   "cell_type": "markdown",
   "id": "0a4b299d",
   "metadata": {
    "papermill": {
     "duration": 0.006248,
     "end_time": "2025-07-18T19:09:01.496897",
     "exception": false,
     "start_time": "2025-07-18T19:09:01.490649",
     "status": "completed"
    },
    "tags": []
   },
   "source": []
  },
  {
   "cell_type": "markdown",
   "id": "52edbcb4",
   "metadata": {
    "papermill": {
     "duration": 0.006142,
     "end_time": "2025-07-18T19:09:01.509797",
     "exception": false,
     "start_time": "2025-07-18T19:09:01.503655",
     "status": "completed"
    },
    "tags": []
   },
   "source": [
    "<h4>MI scores</h4>"
   ]
  },
  {
   "cell_type": "code",
   "execution_count": 8,
   "id": "1c15f19a",
   "metadata": {
    "execution": {
     "iopub.execute_input": "2025-07-18T19:09:01.524423Z",
     "iopub.status.busy": "2025-07-18T19:09:01.523771Z",
     "iopub.status.idle": "2025-07-18T19:09:07.817259Z",
     "shell.execute_reply": "2025-07-18T19:09:07.816319Z"
    },
    "papermill": {
     "duration": 6.302505,
     "end_time": "2025-07-18T19:09:07.818831",
     "exception": false,
     "start_time": "2025-07-18T19:09:01.516326",
     "status": "completed"
    },
    "tags": []
   },
   "outputs": [
    {
     "name": "stdout",
     "output_type": "stream",
     "text": [
      "Shell weight      0.675040\n",
      "Whole weight      0.573455\n",
      "Height            0.550484\n",
      "Whole weight.2    0.546286\n",
      "Diameter          0.542881\n",
      "Length            0.535933\n",
      "Whole weight.1    0.509386\n",
      "Sex               0.240992\n",
      "Name: MI Scores, dtype: float64\n"
     ]
    },
    {
     "data": {
      "image/png": "[encoded data removed]",
      "text/plain": [
       "<Figure size 800x500 with 1 Axes>"
      ]
     },
     "metadata": {},
     "output_type": "display_data"
    }
   ],
   "source": [
    "mi_scores = make_mi_scores(X_full, y, descrete_features=False)\n",
    "print(mi_scores.head(20))\n",
    "# print(mi_scores.tail(20))  # uncomment to see bottom 20\n",
    "\n",
    "plt.figure(dpi=100, figsize=(8, 5))\n",
    "plot_mi_scores(mi_scores.head(20))\n",
    "# plot_mi_scores(mi_scores.tail(20))  # uncomment to see bottom 20 "
   ]
  },
  {
   "cell_type": "markdown",
   "id": "ebe7f2db",
   "metadata": {
    "papermill": {
     "duration": 0.006619,
     "end_time": "2025-07-18T19:09:07.833163",
     "exception": false,
     "start_time": "2025-07-18T19:09:07.826544",
     "status": "completed"
    },
    "tags": []
   },
   "source": [
    "<h4>Attribute combinations</h4>"
   ]
  },
  {
   "cell_type": "code",
   "execution_count": 9,
   "id": "97dcdb77",
   "metadata": {
    "execution": {
     "iopub.execute_input": "2025-07-18T19:09:07.848520Z",
     "iopub.status.busy": "2025-07-18T19:09:07.848204Z",
     "iopub.status.idle": "2025-07-18T19:09:07.853890Z",
     "shell.execute_reply": "2025-07-18T19:09:07.853035Z"
    },
    "papermill": {
     "duration": 0.015442,
     "end_time": "2025-07-18T19:09:07.855423",
     "exception": false,
     "start_time": "2025-07-18T19:09:07.839981",
     "status": "completed"
    },
    "tags": []
   },
   "outputs": [
    {
     "data": {
      "text/plain": [
       "'\\nfor feature in features:\\n    sns.lmplot(\\n        x=feature, y=\"Rings\", hue=\"Sex\", col=\"Sex\",\\n        data=X_full_copy, scatter_kws={\"edgecolor\": \\'w\\'}, col_wrap=3, height=4\\n    )\\n    plt.suptitle(f\\'Regression of {feature} on Rings by Sex\\', y=1.05)\\n    plt.show()\\n'"
      ]
     },
     "execution_count": 9,
     "metadata": {},
     "output_type": "execute_result"
    }
   ],
   "source": [
    "# Loop through each feature and generate the lmplot\n",
    "\"\"\"\n",
    "for feature in features:\n",
    "    sns.lmplot(\n",
    "        x=feature, y=\"Rings\", hue=\"Sex\", col=\"Sex\",\n",
    "        data=X_full_copy, scatter_kws={\"edgecolor\": 'w'}, col_wrap=3, height=4\n",
    "    )\n",
    "    plt.suptitle(f'Regression of {feature} on Rings by Sex', y=1.05)\n",
    "    plt.show()\n",
    "\"\"\"\n"
   ]
  },
  {
   "cell_type": "markdown",
   "id": "59397c4c",
   "metadata": {
    "papermill": {
     "duration": 0.007368,
     "end_time": "2025-07-18T19:09:07.870097",
     "exception": false,
     "start_time": "2025-07-18T19:09:07.862729",
     "status": "completed"
    },
    "tags": []
   },
   "source": [
    "<h4>Interaction feature between sex and whole weight</h4>"
   ]
  },
  {
   "cell_type": "code",
   "execution_count": 10,
   "id": "f127f4c0",
   "metadata": {
    "execution": {
     "iopub.execute_input": "2025-07-18T19:09:07.886104Z",
     "iopub.status.busy": "2025-07-18T19:09:07.885365Z",
     "iopub.status.idle": "2025-07-18T19:09:08.811936Z",
     "shell.execute_reply": "2025-07-18T19:09:08.810998Z"
    },
    "papermill": {
     "duration": 0.936679,
     "end_time": "2025-07-18T19:09:08.813861",
     "exception": false,
     "start_time": "2025-07-18T19:09:07.877182",
     "status": "completed"
    },
    "tags": []
   },
   "outputs": [
    {
     "name": "stdout",
     "output_type": "stream",
     "text": [
      "    Sex_M  Sex_I  Whole weight  Sex_M_WholeWeight_Interaction  \\\n",
      "id                                                              \n",
      "0   False  False        0.7715                         0.0000   \n",
      "1   False  False        1.1300                         0.0000   \n",
      "2   False   True        0.0210                         0.0000   \n",
      "3    True  False        0.9145                         0.9145   \n",
      "4   False   True        0.7820                         0.0000   \n",
      "\n",
      "    Sex_I_WholeWeight_Interaction  \n",
      "id                                 \n",
      "0                           0.000  \n",
      "1                           0.000  \n",
      "2                           0.021  \n",
      "3                           0.000  \n",
      "4                           0.782  \n"
     ]
    }
   ],
   "source": [
    "\n",
    "# Step 1: One-hot encode 'Sex' on the full training data (X_full)\n",
    "X_full = pd.get_dummies(X_full, columns=['Sex'], drop_first=True)\n",
    "\n",
    "# Step 2: One-hot encode 'Sex' on the full test data (X_test_full)\n",
    "X_test_full = pd.get_dummies(X_test_full, columns=['Sex'], drop_first=True)\n",
    "\n",
    "# Step 3: Create interaction terms on the training data (X_full)\n",
    "X_full['Sex_M_WholeWeight_Interaction'] = X_full['Sex_M'] * X_full['Whole weight']\n",
    "X_full['Sex_I_WholeWeight_Interaction'] = X_full['Sex_I'] * X_full['Whole weight']\n",
    "\n",
    "# Step 4: Fit KMeans on the full training data (X_full)\n",
    "kmeans = KMeans(n_clusters=10, n_init=10, random_state=0)\n",
    "X_full['Cluster'] = kmeans.fit_predict(X_full[['Whole weight', 'Sex_M', 'Sex_I']])\n",
    "\n",
    "# Step 5: Create interaction terms on the test data (X_test_full) - using the same formula as for the training data\n",
    "X_test_full['Sex_M_WholeWeight_Interaction'] = X_test_full['Sex_M'] * X_test_full['Whole weight']\n",
    "X_test_full['Sex_I_WholeWeight_Interaction'] = X_test_full['Sex_I'] * X_test_full['Whole weight']\n",
    "\n",
    "# Step 6: Apply the same KMeans model to the test data (X_test_full)\n",
    "X_test_full['Cluster'] = kmeans.predict(X_test_full[['Whole weight', 'Sex_M', 'Sex_I']])\n",
    "# Check the new dataframe with the interaction terms\n",
    "print(X_full[['Sex_M', 'Sex_I', 'Whole weight', 'Sex_M_WholeWeight_Interaction', 'Sex_I_WholeWeight_Interaction']].head())\n"
   ]
  },
  {
   "cell_type": "code",
   "execution_count": 11,
   "id": "b04e9521",
   "metadata": {
    "execution": {
     "iopub.execute_input": "2025-07-18T19:09:08.831076Z",
     "iopub.status.busy": "2025-07-18T19:09:08.830753Z",
     "iopub.status.idle": "2025-07-18T19:09:11.340329Z",
     "shell.execute_reply": "2025-07-18T19:09:11.339491Z"
    },
    "papermill": {
     "duration": 2.519531,
     "end_time": "2025-07-18T19:09:11.342050",
     "exception": false,
     "start_time": "2025-07-18T19:09:08.822519",
     "status": "completed"
    },
    "tags": []
   },
   "outputs": [
    {
     "data": {
      "text/plain": [
       "0.15105693727743394"
      ]
     },
     "execution_count": 11,
     "metadata": {},
     "output_type": "execute_result"
    }
   ],
   "source": [
    "score_dataset(X_full, y)"
   ]
  },
  {
   "cell_type": "code",
   "execution_count": 12,
   "id": "2e3e6f66",
   "metadata": {
    "execution": {
     "iopub.execute_input": "2025-07-18T19:09:11.362057Z",
     "iopub.status.busy": "2025-07-18T19:09:11.361713Z",
     "iopub.status.idle": "2025-07-18T19:09:11.380949Z",
     "shell.execute_reply": "2025-07-18T19:09:11.380034Z"
    },
    "papermill": {
     "duration": 0.03078,
     "end_time": "2025-07-18T19:09:11.382935",
     "exception": false,
     "start_time": "2025-07-18T19:09:11.352155",
     "status": "completed"
    },
    "tags": []
   },
   "outputs": [],
   "source": [
    "#Break off validation set from training data\n",
    "X_train, X_valid, y_train, y_valid = train_test_split(X_full, y, train_size=0.8, test_size=0.2,\n",
    "                                                      random_state=0)"
   ]
  },
  {
   "cell_type": "markdown",
   "id": "dce79dd4",
   "metadata": {
    "papermill": {
     "duration": 0.007009,
     "end_time": "2025-07-18T19:09:11.398099",
     "exception": false,
     "start_time": "2025-07-18T19:09:11.391090",
     "status": "completed"
    },
    "tags": []
   },
   "source": [
    "<h2>Fine tuning the XGBRegressor</h2>"
   ]
  },
  {
   "cell_type": "code",
   "execution_count": 13,
   "id": "b357ff50",
   "metadata": {
    "execution": {
     "iopub.execute_input": "2025-07-18T19:09:11.413737Z",
     "iopub.status.busy": "2025-07-18T19:09:11.413403Z",
     "iopub.status.idle": "2025-07-18T19:11:03.033897Z",
     "shell.execute_reply": "2025-07-18T19:11:03.033002Z"
    },
    "papermill": {
     "duration": 111.637925,
     "end_time": "2025-07-18T19:11:03.043178",
     "exception": false,
     "start_time": "2025-07-18T19:09:11.405253",
     "status": "completed"
    },
    "tags": []
   },
   "outputs": [
    {
     "name": "stdout",
     "output_type": "stream",
     "text": [
      "Fitting 3 folds for each of 128 candidates, totalling 384 fits\n"
     ]
    },
    {
     "data": {
      "text/html": [
       "<style>#sk-container-id-1 {color: black;background-color: white;}#sk-container-id-1 pre{padding: 0;}#sk-container-id-1 div.sk-toggleable {background-color: white;}#sk-container-id-1 label.sk-toggleable__label {cursor: pointer;display: block;width: 100%;margin-bottom: 0;padding: 0.3em;box-sizing: border-box;text-align: center;}#sk-container-id-1 label.sk-toggleable__label-arrow:before {content: \"▸\";float: left;margin-right: 0.25em;color: #696969;}#sk-container-id-1 label.sk-toggleable__label-arrow:hover:before {color: black;}#sk-container-id-1 div.sk-estimator:hover label.sk-toggleable__label-arrow:before {color: black;}#sk-container-id-1 div.sk-toggleable__content {max-height: 0;max-width: 0;overflow: hidden;text-align: left;background-color: #f0f8ff;}#sk-container-id-1 div.sk-toggleable__content pre {margin: 0.2em;color: black;border-radius: 0.25em;background-color: #f0f8ff;}#sk-container-id-1 input.sk-toggleable__control:checked~div.sk-toggleable__content {max-height: 200px;max-width: 100%;overflow: auto;}#sk-container-id-1 input.sk-toggleable__control:checked~label.sk-toggleable__label-arrow:before {content: \"▾\";}#sk-container-id-1 div.sk-estimator input.sk-toggleable__control:checked~label.sk-toggleable__label {background-color: #d4ebff;}#sk-container-id-1 div.sk-label input.sk-toggleable__control:checked~label.sk-toggleable__label {background-color: #d4ebff;}#sk-container-id-1 input.sk-hidden--visually {border: 0;clip: rect(1px 1px 1px 1px);clip: rect(1px, 1px, 1px, 1px);height: 1px;margin: -1px;overflow: hidden;padding: 0;position: absolute;width: 1px;}#sk-container-id-1 div.sk-estimator {font-family: monospace;background-color: #f0f8ff;border: 1px dotted black;border-radius: 0.25em;box-sizing: border-box;margin-bottom: 0.5em;}#sk-container-id-1 div.sk-estimator:hover {background-color: #d4ebff;}#sk-container-id-1 div.sk-parallel-item::after {content: \"\";width: 100%;border-bottom: 1px solid gray;flex-grow: 1;}#sk-container-id-1 div.sk-label:hover label.sk-toggleable__label {background-color: #d4ebff;}#sk-container-id-1 div.sk-serial::before {content: \"\";position: absolute;border-left: 1px solid gray;box-sizing: border-box;top: 0;bottom: 0;left: 50%;z-index: 0;}#sk-container-id-1 div.sk-serial {display: flex;flex-direction: column;align-items: center;background-color: white;padding-right: 0.2em;padding-left: 0.2em;position: relative;}#sk-container-id-1 div.sk-item {position: relative;z-index: 1;}#sk-container-id-1 div.sk-parallel {display: flex;align-items: stretch;justify-content: center;background-color: white;position: relative;}#sk-container-id-1 div.sk-item::before, #sk-container-id-1 div.sk-parallel-item::before {content: \"\";position: absolute;border-left: 1px solid gray;box-sizing: border-box;top: 0;bottom: 0;left: 50%;z-index: -1;}#sk-container-id-1 div.sk-parallel-item {display: flex;flex-direction: column;z-index: 1;position: relative;background-color: white;}#sk-container-id-1 div.sk-parallel-item:first-child::after {align-self: flex-end;width: 50%;}#sk-container-id-1 div.sk-parallel-item:last-child::after {align-self: flex-start;width: 50%;}#sk-container-id-1 div.sk-parallel-item:only-child::after {width: 0;}#sk-container-id-1 div.sk-dashed-wrapped {border: 1px dashed gray;margin: 0 0.4em 0.5em 0.4em;box-sizing: border-box;padding-bottom: 0.4em;background-color: white;}#sk-container-id-1 div.sk-label label {font-family: monospace;font-weight: bold;display: inline-block;line-height: 1.2em;}#sk-container-id-1 div.sk-label-container {text-align: center;}#sk-container-id-1 div.sk-container {/* jupyter's `normalize.less` sets `[hidden] { display: none; }` but bootstrap.min.css set `[hidden] { display: none !important; }` so we also need the `!important` here to be able to override the default hidden behavior on the sphinx rendered scikit-learn.org. See: https://github.com/scikit-learn/scikit-learn/issues/21755 */display: inline-block !important;position: relative;}#sk-container-id-1 div.sk-text-repr-fallback {display: none;}</style><div id=\"sk-container-id-1\" class=\"sk-top-container\"><div class=\"sk-text-repr-fallback\"><pre>GridSearchCV(cv=3,\n",
       "             estimator=XGBRegressor(base_score=None, booster=None,\n",
       "                                    callbacks=None, colsample_bylevel=None,\n",
       "                                    colsample_bynode=None,\n",
       "                                    colsample_bytree=None, device=None,\n",
       "                                    early_stopping_rounds=None,\n",
       "                                    enable_categorical=False, eval_metric=None,\n",
       "                                    feature_types=None, gamma=None,\n",
       "                                    grow_policy=None, importance_type=None,\n",
       "                                    interaction_constraints=None,\n",
       "                                    learning_rate=None, m...\n",
       "                                    min_child_weight=None, missing=nan,\n",
       "                                    monotone_constraints=None,\n",
       "                                    multi_strategy=None, n_estimators=None,\n",
       "                                    n_jobs=-1, num_parallel_tree=None,\n",
       "                                    random_state=42, ...),\n",
       "             n_jobs=-1,\n",
       "             param_grid={&#x27;colsample_bytree&#x27;: [0.8, 1.0], &#x27;gamma&#x27;: [0, 0.1],\n",
       "                         &#x27;learning_rate&#x27;: [0.1, 0.2], &#x27;max_depth&#x27;: [4, 5],\n",
       "                         &#x27;min_child_weight&#x27;: [1, 2], &#x27;n_estimators&#x27;: [100, 200],\n",
       "                         &#x27;subsample&#x27;: [0.8, 1.0]},\n",
       "             scoring=&#x27;neg_mean_squared_error&#x27;, verbose=1)</pre><b>In a Jupyter environment, please rerun this cell to show the HTML representation or trust the notebook. <br />On GitHub, the HTML representation is unable to render, please try loading this page with nbviewer.org.</b></div><div class=\"sk-container\" hidden><div class=\"sk-item sk-dashed-wrapped\"><div class=\"sk-label-container\"><div class=\"sk-label sk-toggleable\"><input class=\"sk-toggleable__control sk-hidden--visually\" id=\"sk-estimator-id-1\" type=\"checkbox\" ><label for=\"sk-estimator-id-1\" class=\"sk-toggleable__label sk-toggleable__label-arrow\">GridSearchCV</label><div class=\"sk-toggleable__content\"><pre>GridSearchCV(cv=3,\n",
       "             estimator=XGBRegressor(base_score=None, booster=None,\n",
       "                                    callbacks=None, colsample_bylevel=None,\n",
       "                                    colsample_bynode=None,\n",
       "                                    colsample_bytree=None, device=None,\n",
       "                                    early_stopping_rounds=None,\n",
       "                                    enable_categorical=False, eval_metric=None,\n",
       "                                    feature_types=None, gamma=None,\n",
       "                                    grow_policy=None, importance_type=None,\n",
       "                                    interaction_constraints=None,\n",
       "                                    learning_rate=None, m...\n",
       "                                    min_child_weight=None, missing=nan,\n",
       "                                    monotone_constraints=None,\n",
       "                                    multi_strategy=None, n_estimators=None,\n",
       "                                    n_jobs=-1, num_parallel_tree=None,\n",
       "                                    random_state=42, ...),\n",
       "             n_jobs=-1,\n",
       "             param_grid={&#x27;colsample_bytree&#x27;: [0.8, 1.0], &#x27;gamma&#x27;: [0, 0.1],\n",
       "                         &#x27;learning_rate&#x27;: [0.1, 0.2], &#x27;max_depth&#x27;: [4, 5],\n",
       "                         &#x27;min_child_weight&#x27;: [1, 2], &#x27;n_estimators&#x27;: [100, 200],\n",
       "                         &#x27;subsample&#x27;: [0.8, 1.0]},\n",
       "             scoring=&#x27;neg_mean_squared_error&#x27;, verbose=1)</pre></div></div></div><div class=\"sk-parallel\"><div class=\"sk-parallel-item\"><div class=\"sk-item\"><div class=\"sk-label-container\"><div class=\"sk-label sk-toggleable\"><input class=\"sk-toggleable__control sk-hidden--visually\" id=\"sk-estimator-id-2\" type=\"checkbox\" ><label for=\"sk-estimator-id-2\" class=\"sk-toggleable__label sk-toggleable__label-arrow\">estimator: XGBRegressor</label><div class=\"sk-toggleable__content\"><pre>XGBRegressor(base_score=None, booster=None, callbacks=None,\n",
       "             colsample_bylevel=None, colsample_bynode=None,\n",
       "             colsample_bytree=None, device=None, early_stopping_rounds=None,\n",
       "             enable_categorical=False, eval_metric=None, feature_types=None,\n",
       "             gamma=None, grow_policy=None, importance_type=None,\n",
       "             interaction_constraints=None, learning_rate=None, max_bin=None,\n",
       "             max_cat_threshold=None, max_cat_to_onehot=None,\n",
       "             max_delta_step=None, max_depth=None, max_leaves=None,\n",
       "             min_child_weight=None, missing=nan, monotone_constraints=None,\n",
       "             multi_strategy=None, n_estimators=None, n_jobs=-1,\n",
       "             num_parallel_tree=None, random_state=42, ...)</pre></div></div></div><div class=\"sk-serial\"><div class=\"sk-item\"><div class=\"sk-estimator sk-toggleable\"><input class=\"sk-toggleable__control sk-hidden--visually\" id=\"sk-estimator-id-3\" type=\"checkbox\" ><label for=\"sk-estimator-id-3\" class=\"sk-toggleable__label sk-toggleable__label-arrow\">XGBRegressor</label><div class=\"sk-toggleable__content\"><pre>XGBRegressor(base_score=None, booster=None, callbacks=None,\n",
       "             colsample_bylevel=None, colsample_bynode=None,\n",
       "             colsample_bytree=None, device=None, early_stopping_rounds=None,\n",
       "             enable_categorical=False, eval_metric=None, feature_types=None,\n",
       "             gamma=None, grow_policy=None, importance_type=None,\n",
       "             interaction_constraints=None, learning_rate=None, max_bin=None,\n",
       "             max_cat_threshold=None, max_cat_to_onehot=None,\n",
       "             max_delta_step=None, max_depth=None, max_leaves=None,\n",
       "             min_child_weight=None, missing=nan, monotone_constraints=None,\n",
       "             multi_strategy=None, n_estimators=None, n_jobs=-1,\n",
       "             num_parallel_tree=None, random_state=42, ...)</pre></div></div></div></div></div></div></div></div></div></div>"
      ],
      "text/plain": [
       "GridSearchCV(cv=3,\n",
       "             estimator=XGBRegressor(base_score=None, booster=None,\n",
       "                                    callbacks=None, colsample_bylevel=None,\n",
       "                                    colsample_bynode=None,\n",
       "                                    colsample_bytree=None, device=None,\n",
       "                                    early_stopping_rounds=None,\n",
       "                                    enable_categorical=False, eval_metric=None,\n",
       "                                    feature_types=None, gamma=None,\n",
       "                                    grow_policy=None, importance_type=None,\n",
       "                                    interaction_constraints=None,\n",
       "                                    learning_rate=None, m...\n",
       "                                    min_child_weight=None, missing=nan,\n",
       "                                    monotone_constraints=None,\n",
       "                                    multi_strategy=None, n_estimators=None,\n",
       "                                    n_jobs=-1, num_parallel_tree=None,\n",
       "                                    random_state=42, ...),\n",
       "             n_jobs=-1,\n",
       "             param_grid={'colsample_bytree': [0.8, 1.0], 'gamma': [0, 0.1],\n",
       "                         'learning_rate': [0.1, 0.2], 'max_depth': [4, 5],\n",
       "                         'min_child_weight': [1, 2], 'n_estimators': [100, 200],\n",
       "                         'subsample': [0.8, 1.0]},\n",
       "             scoring='neg_mean_squared_error', verbose=1)"
      ]
     },
     "execution_count": 13,
     "metadata": {},
     "output_type": "execute_result"
    }
   ],
   "source": [
    "param_grid = {\n",
    "    'learning_rate': [0.1, 0.2],\n",
    "    'n_estimators': [100, 200],\n",
    "    'max_depth': [4, 5],\n",
    "    'min_child_weight': [1, 2],\n",
    "    'subsample': [0.8, 1.0],\n",
    "    'colsample_bytree': [0.8, 1.0],\n",
    "    'gamma': [0, 0.1]\n",
    "}\n",
    "\n",
    "model = XGBRegressor(\n",
    "    random_state=42,\n",
    "    n_jobs=-1  # Use all CPU cores\n",
    ")\n",
    "\n",
    "\n",
    "grid_search = GridSearchCV(estimator=model, param_grid=param_grid, \n",
    "                           scoring='neg_mean_squared_error', cv=3, verbose=1, n_jobs=-1)\n",
    "\n",
    "grid_search.fit(X_train, y_train)\n",
    "\n"
   ]
  },
  {
   "cell_type": "markdown",
   "id": "de870421",
   "metadata": {
    "papermill": {
     "duration": 0.007419,
     "end_time": "2025-07-18T19:11:03.058288",
     "exception": false,
     "start_time": "2025-07-18T19:11:03.050869",
     "status": "completed"
    },
    "tags": []
   },
   "source": [
    "<h2>Train a model for the competion</h2>"
   ]
  },
  {
   "cell_type": "code",
   "execution_count": 14,
   "id": "9b7bedda",
   "metadata": {
    "execution": {
     "iopub.execute_input": "2025-07-18T19:11:03.075079Z",
     "iopub.status.busy": "2025-07-18T19:11:03.074733Z",
     "iopub.status.idle": "2025-07-18T19:11:03.079499Z",
     "shell.execute_reply": "2025-07-18T19:11:03.078723Z"
    },
    "papermill": {
     "duration": 0.014851,
     "end_time": "2025-07-18T19:11:03.080838",
     "exception": false,
     "start_time": "2025-07-18T19:11:03.065987",
     "status": "completed"
    },
    "tags": []
   },
   "outputs": [],
   "source": [
    "# Create the pipeline\n",
    "final_model = grid_search.best_estimator_\n",
    "final_pipeline = Pipeline(steps=[\n",
    "    ('preprocessor', OrdinalEncoder(handle_unknown='use_encoded_value', unknown_value=-1)),\n",
    "    ('model', final_model)\n",
    "])\n"
   ]
  },
  {
   "cell_type": "code",
   "execution_count": 15,
   "id": "f2e2e509",
   "metadata": {
    "execution": {
     "iopub.execute_input": "2025-07-18T19:11:03.098143Z",
     "iopub.status.busy": "2025-07-18T19:11:03.097524Z",
     "iopub.status.idle": "2025-07-18T19:11:04.339201Z",
     "shell.execute_reply": "2025-07-18T19:11:04.338238Z"
    },
    "papermill": {
     "duration": 1.251975,
     "end_time": "2025-07-18T19:11:04.340709",
     "exception": false,
     "start_time": "2025-07-18T19:11:03.088734",
     "status": "completed"
    },
    "tags": []
   },
   "outputs": [
    {
     "name": "stdout",
     "output_type": "stream",
     "text": [
      "Predictions saved to 'submission.csv'\n"
     ]
    }
   ],
   "source": [
    "final_pipeline.fit(X_full, y)\n",
    "# 2. Select numeric columns from the test data\n",
    "test_preds = final_pipeline.predict(X_test_full)\n",
    "# 3. Make predictions on the test data\n",
    "# 4. Create the output DataFrame for submission\n",
    "output = pd.DataFrame({'id': X_test_full.index, \n",
    "                       'Rings': test_preds})\n",
    "\n",
    "# 5. Save the predictions to a CSV file for submission\n",
    "output.to_csv('submission.csv', index=False)\n",
    "\n",
    "print(\"Predictions saved to 'submission.csv'\")"
   ]
  }
 ],
 "metadata": {
  "kaggle": {
   "accelerator": "none",
   "dataSources": [
    {
     "databundleVersionId": 8096274,
     "sourceId": 72489,
     "sourceType": "competition"
    }
   ],
   "dockerImageVersionId": 31089,
   "isGpuEnabled": false,
   "isInternetEnabled": true,
   "language": "python",
   "sourceType": "notebook"
  },
  "kernelspec": {
   "display_name": "Python 3",
   "language": "python",
   "name": "python3"
  },
  "language_info": {
   "codemirror_mode": {
    "name": "ipython",
    "version": 3
   },
   "file_extension": ".py",
   "mimetype": "text/x-python",
   "name": "python",
   "nbconvert_exporter": "python",
   "pygments_lexer": "ipython3",
   "version": "3.11.13"
  },
  "papermill": {
   "default_parameters": {},
   "duration": 138.902125,
   "end_time": "2025-07-18T19:11:06.967920",
   "environment_variables": {},
   "exception": null,
   "input_path": "__notebook__.ipynb",
   "output_path": "__notebook__.ipynb",
   "parameters": {},
   "start_time": "2025-07-18T19:08:48.065795",
   "version": "2.6.0"
  }
 },
 "nbformat": 4,
 "nbformat_minor": 5
}
