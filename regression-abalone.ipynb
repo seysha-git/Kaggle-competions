{
 "cells": [
  {
   "cell_type": "code",
   "execution_count": 1,
   "id": "bff16184",
   "metadata": {
    "_cell_guid": "b1076dfc-b9ad-4769-8c92-a6c4dae69d19",
    "_uuid": "8f2839f25d086af736a60e9eeb907d3b93b6e0e5",
    "execution": {
     "iopub.execute_input": "2025-07-18T11:19:41.182861Z",
     "iopub.status.busy": "2025-07-18T11:19:41.182507Z",
     "iopub.status.idle": "2025-07-18T11:19:46.564489Z",
     "shell.execute_reply": "2025-07-18T11:19:46.563722Z"
    },
    "papermill": {
     "duration": 5.389186,
     "end_time": "2025-07-18T11:19:46.566208",
     "exception": false,
     "start_time": "2025-07-18T11:19:41.177022",
     "status": "completed"
    },
    "tags": []
   },
   "outputs": [],
   "source": [
    "import os\n",
    "import warnings\n",
    "from pathlib import Path\n",
    "\n",
    "import matplotlib.pyplot as plt\n",
    "import numpy as np\n",
    "import pandas as pd\n",
    "\n",
    "from sklearn.preprocessing import OrdinalEncoder\n",
    "from sklearn.ensemble import RandomForestRegressor\n",
    "from sklearn.metrics import mean_absolute_error\n",
    "from sklearn.preprocessing import OneHotEncoder\n",
    "from sklearn.tree import DecisionTreeRegressor\n",
    "from sklearn.model_selection import train_test_split\n",
    "from sklearn.metrics import mean_absolute_error\n",
    "from sklearn.model_selection import cross_val_score\n",
    "from sklearn.cluster import KMeans\n",
    "\n",
    "from sklearn.compose import ColumnTransformer\n",
    "from sklearn.pipeline import Pipeline\n",
    "from sklearn.impute import SimpleImputer\n",
    "from sklearn.preprocessing import OneHotEncoder\n",
    "from xgboost import XGBRegressor\n",
    "\n",
    "# Setup feedback system\n",
    "from learntools.core import binder\n",
    "binder.bind(globals())\n",
    "from learntools.feature_engineering_new.ex2 import *\n",
    "\n",
    "import seaborn as sns\n",
    "from sklearn.feature_selection import mutual_info_regression"
   ]
  },
  {
   "cell_type": "markdown",
   "id": "84f20915",
   "metadata": {
    "papermill": {
     "duration": 0.003259,
     "end_time": "2025-07-18T11:19:46.573310",
     "exception": false,
     "start_time": "2025-07-18T11:19:46.570051",
     "status": "completed"
    },
    "tags": []
   },
   "source": [
    "<h2>Utility functions</h2>"
   ]
  },
  {
   "cell_type": "code",
   "execution_count": 2,
   "id": "63737ab9",
   "metadata": {
    "execution": {
     "iopub.execute_input": "2025-07-18T11:19:46.581686Z",
     "iopub.status.busy": "2025-07-18T11:19:46.581167Z",
     "iopub.status.idle": "2025-07-18T11:19:46.593121Z",
     "shell.execute_reply": "2025-07-18T11:19:46.592357Z"
    },
    "papermill": {
     "duration": 0.017918,
     "end_time": "2025-07-18T11:19:46.594652",
     "exception": false,
     "start_time": "2025-07-18T11:19:46.576734",
     "status": "completed"
    },
    "tags": []
   },
   "outputs": [
    {
     "name": "stderr",
     "output_type": "stream",
     "text": [
      "/tmp/ipykernel_13/3880581003.py:2: MatplotlibDeprecationWarning: The seaborn styles shipped by Matplotlib are deprecated since 3.6, as they no longer correspond to the styles shipped by seaborn. However, they will remain available as 'seaborn-v0_8-<style>'. Alternatively, directly use the seaborn API instead.\n",
      "  plt.style.use(\"seaborn-whitegrid\")\n"
     ]
    }
   ],
   "source": [
    "# Set Matplotlib defaults\n",
    "plt.style.use(\"seaborn-whitegrid\")\n",
    "plt.rc(\"figure\", autolayout=True)\n",
    "plt.rc(\n",
    "    \"axes\",\n",
    "    labelweight=\"bold\",\n",
    "    labelsize=\"large\",\n",
    "    titleweight=\"bold\",\n",
    "    titlesize=14,\n",
    "    titlepad=10,\n",
    ")\n",
    "\n",
    "# Utility functions from Tutorial\n",
    "def make_mi_scores(X, y):\n",
    "    X = X.copy()\n",
    "    for colname in X.select_dtypes([\"object\", \"category\"]):\n",
    "        X[colname], _ = X[colname].factorize()\n",
    "    # All discrete features should now have integer dtypes\n",
    "    discrete_features = [pd.api.types.is_integer_dtype(t) for t in X.dtypes]\n",
    "    mi_scores = mutual_info_regression(X, y, discrete_features=discrete_features, random_state=0)\n",
    "    mi_scores = pd.Series(mi_scores, name=\"MI Scores\", index=X.columns)\n",
    "    mi_scores = mi_scores.sort_values(ascending=False)\n",
    "    return mi_scores\n",
    "\n",
    "\n",
    "def plot_mi_scores(scores):\n",
    "    scores = scores.sort_values(ascending=True)\n",
    "    width = np.arange(len(scores))\n",
    "    ticks = list(scores.index)\n",
    "    plt.barh(width, scores)\n",
    "    plt.yticks(width, ticks)\n",
    "    plt.title(\"Mutual Information Scores\")\n",
    "\n",
    "\n",
    "\n",
    "def get_mae(max_leaf_nodes, train_X, val_X, train_y, val_y):\n",
    "    model = DecisionTreeRegressor(max_leaf_nodes=max_leaf_nodes, random_state=0)\n",
    "    model.fit(train_X, train_y)\n",
    "    preds_val = model.predict(val_X)\n",
    "    mae = mean_absolute_error(val_y, preds_val)\n",
    "    return(mae)\n",
    "\n",
    "def score_dataset(X, y, model=XGBRegressor()):\n",
    "    # Label encoding for categoricals\n",
    "    for colname in X.select_dtypes([\"category\", \"object\"]):\n",
    "        X[colname], _ = X[colname].factorize()\n",
    "    # Metric for Housing competition is RMSLE (Root Mean Squared Log Error)\n",
    "    score = cross_val_score(\n",
    "        model, X, y, cv=5, scoring=\"neg_mean_squared_log_error\",\n",
    "    )\n",
    "    score = -1 * score.mean()\n",
    "    score = np.sqrt(score)\n",
    "    return score\n",
    "\n",
    "def get_score(n_estimators):\n",
    "    \"\"\"Return the average MAE over 3 CV folds of random forest model.\n",
    "    \n",
    "    Keyword argument:\n",
    "    n_estimators -- the number of trees in the forest\n",
    "    \"\"\"\n",
    "    my_pipeline = Pipeline(steps=[\n",
    "        ('preprocessor', OrdinalEncoder(handle_unknown='use_encoded_value', unknown_value=-1)),\n",
    "        ('model', RandomForestRegressor(n_estimators=n_estimators, random_state=0))\n",
    "    ])\n",
    "    scores = -1 * cross_val_score(my_pipeline, X_train, y_train,\n",
    "                              cv=3,\n",
    "                              scoring='neg_mean_absolute_error')\n",
    "    return scores.mean()\n",
    "\n"
   ]
  },
  {
   "cell_type": "markdown",
   "id": "069816b5",
   "metadata": {
    "papermill": {
     "duration": 0.003168,
     "end_time": "2025-07-18T11:19:46.601355",
     "exception": false,
     "start_time": "2025-07-18T11:19:46.598187",
     "status": "completed"
    },
    "tags": []
   },
   "source": [
    "<h2>Reading the data and preprocessing</h2>"
   ]
  },
  {
   "cell_type": "code",
   "execution_count": 3,
   "id": "e41ea26d",
   "metadata": {
    "execution": {
     "iopub.execute_input": "2025-07-18T11:19:46.609289Z",
     "iopub.status.busy": "2025-07-18T11:19:46.608965Z",
     "iopub.status.idle": "2025-07-18T11:19:47.004855Z",
     "shell.execute_reply": "2025-07-18T11:19:47.003875Z"
    },
    "papermill": {
     "duration": 0.401517,
     "end_time": "2025-07-18T11:19:47.006237",
     "exception": false,
     "start_time": "2025-07-18T11:19:46.604720",
     "status": "completed"
    },
    "tags": []
   },
   "outputs": [
    {
     "data": {
      "text/html": [
       "<div>\n",
       "<style scoped>\n",
       "    .dataframe tbody tr th:only-of-type {\n",
       "        vertical-align: middle;\n",
       "    }\n",
       "\n",
       "    .dataframe tbody tr th {\n",
       "        vertical-align: top;\n",
       "    }\n",
       "\n",
       "    .dataframe thead th {\n",
       "        text-align: right;\n",
       "    }\n",
       "</style>\n",
       "<table border=\"1\" class=\"dataframe\">\n",
       "  <thead>\n",
       "    <tr style=\"text-align: right;\">\n",
       "      <th></th>\n",
       "      <th>Sex</th>\n",
       "      <th>Length</th>\n",
       "      <th>Diameter</th>\n",
       "      <th>Height</th>\n",
       "      <th>Whole weight</th>\n",
       "      <th>Whole weight.1</th>\n",
       "      <th>Whole weight.2</th>\n",
       "      <th>Shell weight</th>\n",
       "    </tr>\n",
       "    <tr>\n",
       "      <th>id</th>\n",
       "      <th></th>\n",
       "      <th></th>\n",
       "      <th></th>\n",
       "      <th></th>\n",
       "      <th></th>\n",
       "      <th></th>\n",
       "      <th></th>\n",
       "      <th></th>\n",
       "    </tr>\n",
       "  </thead>\n",
       "  <tbody>\n",
       "    <tr>\n",
       "      <th>0</th>\n",
       "      <td>F</td>\n",
       "      <td>0.550</td>\n",
       "      <td>0.430</td>\n",
       "      <td>0.150</td>\n",
       "      <td>0.7715</td>\n",
       "      <td>0.3285</td>\n",
       "      <td>0.1465</td>\n",
       "      <td>0.2400</td>\n",
       "    </tr>\n",
       "    <tr>\n",
       "      <th>1</th>\n",
       "      <td>F</td>\n",
       "      <td>0.630</td>\n",
       "      <td>0.490</td>\n",
       "      <td>0.145</td>\n",
       "      <td>1.1300</td>\n",
       "      <td>0.4580</td>\n",
       "      <td>0.2765</td>\n",
       "      <td>0.3200</td>\n",
       "    </tr>\n",
       "    <tr>\n",
       "      <th>2</th>\n",
       "      <td>I</td>\n",
       "      <td>0.160</td>\n",
       "      <td>0.110</td>\n",
       "      <td>0.025</td>\n",
       "      <td>0.0210</td>\n",
       "      <td>0.0055</td>\n",
       "      <td>0.0030</td>\n",
       "      <td>0.0050</td>\n",
       "    </tr>\n",
       "    <tr>\n",
       "      <th>3</th>\n",
       "      <td>M</td>\n",
       "      <td>0.595</td>\n",
       "      <td>0.475</td>\n",
       "      <td>0.150</td>\n",
       "      <td>0.9145</td>\n",
       "      <td>0.3755</td>\n",
       "      <td>0.2055</td>\n",
       "      <td>0.2500</td>\n",
       "    </tr>\n",
       "    <tr>\n",
       "      <th>4</th>\n",
       "      <td>I</td>\n",
       "      <td>0.555</td>\n",
       "      <td>0.425</td>\n",
       "      <td>0.130</td>\n",
       "      <td>0.7820</td>\n",
       "      <td>0.3695</td>\n",
       "      <td>0.1600</td>\n",
       "      <td>0.1975</td>\n",
       "    </tr>\n",
       "  </tbody>\n",
       "</table>\n",
       "</div>"
      ],
      "text/plain": [
       "   Sex  Length  Diameter  Height  Whole weight  Whole weight.1  \\\n",
       "id                                                               \n",
       "0    F   0.550     0.430   0.150        0.7715          0.3285   \n",
       "1    F   0.630     0.490   0.145        1.1300          0.4580   \n",
       "2    I   0.160     0.110   0.025        0.0210          0.0055   \n",
       "3    M   0.595     0.475   0.150        0.9145          0.3755   \n",
       "4    I   0.555     0.425   0.130        0.7820          0.3695   \n",
       "\n",
       "    Whole weight.2  Shell weight  \n",
       "id                                \n",
       "0           0.1465        0.2400  \n",
       "1           0.2765        0.3200  \n",
       "2           0.0030        0.0050  \n",
       "3           0.2055        0.2500  \n",
       "4           0.1600        0.1975  "
      ]
     },
     "execution_count": 3,
     "metadata": {},
     "output_type": "execute_result"
    }
   ],
   "source": [
    "#Read data\n",
    "# Read the data\n",
    "X_full = pd.read_csv('/kaggle/input/playground-series-s4e4/train.csv', index_col='id')\n",
    "X_test_full = pd.read_csv('/kaggle/input/playground-series-s4e4/test.csv', index_col='id')\n",
    "X_full_copy = X_full.copy()\n",
    "# Remove rows with missing target, separate target from predictors\n",
    "X_full.dropna(axis=0, subset=['Rings'], inplace=True)\n",
    "y = X_full.Rings\n",
    "X_full.drop(['Rings'], axis=1, inplace=True)\n",
    "\n",
    "X_full.head()"
   ]
  },
  {
   "cell_type": "code",
   "execution_count": 4,
   "id": "c1a8393a",
   "metadata": {
    "execution": {
     "iopub.execute_input": "2025-07-18T11:19:47.015188Z",
     "iopub.status.busy": "2025-07-18T11:19:47.014409Z",
     "iopub.status.idle": "2025-07-18T11:19:49.149890Z",
     "shell.execute_reply": "2025-07-18T11:19:49.148944Z"
    },
    "papermill": {
     "duration": 2.141444,
     "end_time": "2025-07-18T11:19:49.151455",
     "exception": false,
     "start_time": "2025-07-18T11:19:47.010011",
     "status": "completed"
    },
    "tags": []
   },
   "outputs": [
    {
     "data": {
      "text/plain": [
       "array([[<Axes: title={'center': 'Length'}>,\n",
       "        <Axes: title={'center': 'Diameter'}>,\n",
       "        <Axes: title={'center': 'Height'}>],\n",
       "       [<Axes: title={'center': 'Whole weight'}>,\n",
       "        <Axes: title={'center': 'Whole weight.1'}>,\n",
       "        <Axes: title={'center': 'Whole weight.2'}>],\n",
       "       [<Axes: title={'center': 'Shell weight'}>,\n",
       "        <Axes: title={'center': 'Rings'}>, <Axes: >]], dtype=object)"
      ]
     },
     "execution_count": 4,
     "metadata": {},
     "output_type": "execute_result"
    },
    {
     "data": {
      "image/png": "[encoded data removed]",
      "text/plain": [
       "<Figure size 640x480 with 9 Axes>"
      ]
     },
     "metadata": {},
     "output_type": "display_data"
    }
   ],
   "source": [
    "X_full_copy.hist(bins=50)"
   ]
  },
  {
   "cell_type": "markdown",
   "id": "2f9ef676",
   "metadata": {
    "papermill": {
     "duration": 0.004112,
     "end_time": "2025-07-18T11:19:49.160242",
     "exception": false,
     "start_time": "2025-07-18T11:19:49.156130",
     "status": "completed"
    },
    "tags": []
   },
   "source": [
    "<h2>Feature engineering (No need extensive for data processing)</h2>"
   ]
  },
  {
   "cell_type": "code",
   "execution_count": 5,
   "id": "5640ac86",
   "metadata": {
    "execution": {
     "iopub.execute_input": "2025-07-18T11:19:49.170326Z",
     "iopub.status.busy": "2025-07-18T11:19:49.169722Z",
     "iopub.status.idle": "2025-07-18T11:19:55.393315Z",
     "shell.execute_reply": "2025-07-18T11:19:55.392411Z"
    },
    "papermill": {
     "duration": 6.23026,
     "end_time": "2025-07-18T11:19:55.394754",
     "exception": false,
     "start_time": "2025-07-18T11:19:49.164494",
     "status": "completed"
    },
    "tags": []
   },
   "outputs": [
    {
     "name": "stdout",
     "output_type": "stream",
     "text": [
      "Shell weight      0.675040\n",
      "Whole weight      0.573455\n",
      "Height            0.550484\n",
      "Whole weight.2    0.546286\n",
      "Diameter          0.542881\n",
      "Length            0.535933\n",
      "Whole weight.1    0.509386\n",
      "Sex               0.240992\n",
      "Name: MI Scores, dtype: float64\n"
     ]
    },
    {
     "data": {
      "image/png": "[encoded data removed]",
      "text/plain": [
       "<Figure size 800x500 with 1 Axes>"
      ]
     },
     "metadata": {},
     "output_type": "display_data"
    }
   ],
   "source": [
    "mi_scores = make_mi_scores(X_full, y)\n",
    "print(mi_scores.head(20))\n",
    "# print(mi_scores.tail(20))  # uncomment to see bottom 20\n",
    "\n",
    "plt.figure(dpi=100, figsize=(8, 5))\n",
    "plot_mi_scores(mi_scores.head(20))\n",
    "# plot_mi_scores(mi_scores.tail(20))  # uncomment to see bottom 20"
   ]
  },
  {
   "cell_type": "code",
   "execution_count": 6,
   "id": "95c2e289",
   "metadata": {
    "execution": {
     "iopub.execute_input": "2025-07-18T11:19:55.406259Z",
     "iopub.status.busy": "2025-07-18T11:19:55.405860Z",
     "iopub.status.idle": "2025-07-18T11:19:55.412201Z",
     "shell.execute_reply": "2025-07-18T11:19:55.411032Z"
    },
    "papermill": {
     "duration": 0.013756,
     "end_time": "2025-07-18T11:19:55.413688",
     "exception": false,
     "start_time": "2025-07-18T11:19:55.399932",
     "status": "completed"
    },
    "tags": []
   },
   "outputs": [
    {
     "data": {
      "text/plain": [
       "'\\nfor feature in features:\\n    sns.lmplot(\\n        x=feature, y=\"Rings\", hue=\"Sex\", col=\"Sex\",\\n        data=X_full_copy, scatter_kws={\"edgecolor\": \\'w\\'}, col_wrap=3, height=4\\n    )\\n    plt.suptitle(f\\'Regression of {feature} on Rings by Sex\\', y=1.05)\\n    plt.show()\\n'"
      ]
     },
     "execution_count": 6,
     "metadata": {},
     "output_type": "execute_result"
    }
   ],
   "source": [
    "# List of features you want to plot against \"Rings\"\n",
    "features = [\"Shell weight\", \"Whole weight\"]\n",
    "\n",
    "# Loop through each feature and generate the lmplot\n",
    "\"\"\"\n",
    "for feature in features:\n",
    "    sns.lmplot(\n",
    "        x=feature, y=\"Rings\", hue=\"Sex\", col=\"Sex\",\n",
    "        data=X_full_copy, scatter_kws={\"edgecolor\": 'w'}, col_wrap=3, height=4\n",
    "    )\n",
    "    plt.suptitle(f'Regression of {feature} on Rings by Sex', y=1.05)\n",
    "    plt.show()\n",
    "\"\"\"\n"
   ]
  },
  {
   "cell_type": "code",
   "execution_count": 7,
   "id": "4a81bf03",
   "metadata": {
    "execution": {
     "iopub.execute_input": "2025-07-18T11:19:55.426291Z",
     "iopub.status.busy": "2025-07-18T11:19:55.425450Z",
     "iopub.status.idle": "2025-07-18T11:19:57.548357Z",
     "shell.execute_reply": "2025-07-18T11:19:57.546744Z"
    },
    "papermill": {
     "duration": 2.131517,
     "end_time": "2025-07-18T11:19:57.550207",
     "exception": false,
     "start_time": "2025-07-18T11:19:55.418690",
     "status": "completed"
    },
    "tags": []
   },
   "outputs": [
    {
     "name": "stdout",
     "output_type": "stream",
     "text": [
      "    Sex_M  Sex_I  Whole weight  Sex_M_WholeWeight_Interaction  \\\n",
      "id                                                              \n",
      "0   False  False        0.7715                         0.0000   \n",
      "1   False  False        1.1300                         0.0000   \n",
      "2   False   True        0.0210                         0.0000   \n",
      "3    True  False        0.9145                         0.9145   \n",
      "4   False   True        0.7820                         0.0000   \n",
      "\n",
      "    Sex_I_WholeWeight_Interaction  \n",
      "id                                 \n",
      "0                           0.000  \n",
      "1                           0.000  \n",
      "2                           0.021  \n",
      "3                           0.000  \n",
      "4                           0.782  \n"
     ]
    }
   ],
   "source": [
    "\n",
    "# Step 1: One-hot encode 'Sex' on the full training data (X_full)\n",
    "X_full = pd.get_dummies(X_full, columns=['Sex'], drop_first=True)\n",
    "\n",
    "# Step 2: One-hot encode 'Sex' on the full test data (X_test_full)\n",
    "X_test_full = pd.get_dummies(X_test_full, columns=['Sex'], drop_first=True)\n",
    "\n",
    "# Step 3: Create interaction terms on the training data (X_full)\n",
    "X_full['Sex_M_WholeWeight_Interaction'] = X_full['Sex_M'] * X_full['Whole weight']\n",
    "X_full['Sex_I_WholeWeight_Interaction'] = X_full['Sex_I'] * X_full['Whole weight']\n",
    "\n",
    "# Step 4: Fit KMeans on the full training data (X_full)\n",
    "kmeans = KMeans(n_clusters=10, n_init=10, random_state=0)\n",
    "X_full['Cluster'] = kmeans.fit_predict(X_full[['Whole weight', 'Sex_M', 'Sex_I']])\n",
    "\n",
    "# Step 5: Create interaction terms on the test data (X_test_full) - using the same formula as for the training data\n",
    "X_test_full['Sex_M_WholeWeight_Interaction'] = X_test_full['Sex_M'] * X_test_full['Whole weight']\n",
    "X_test_full['Sex_I_WholeWeight_Interaction'] = X_test_full['Sex_I'] * X_test_full['Whole weight']\n",
    "\n",
    "# Step 6: Apply the same KMeans model to the test data (X_test_full)\n",
    "X_test_full['Cluster'] = kmeans.predict(X_test_full[['Whole weight', 'Sex_M', 'Sex_I']])\n",
    "# Check the new dataframe with the interaction terms\n",
    "print(X_full[['Sex_M', 'Sex_I', 'Whole weight', 'Sex_M_WholeWeight_Interaction', 'Sex_I_WholeWeight_Interaction']].head())\n"
   ]
  },
  {
   "cell_type": "code",
   "execution_count": null,
   "id": "56af2016",
   "metadata": {
    "papermill": {
     "duration": 0.004585,
     "end_time": "2025-07-18T11:19:57.560984",
     "exception": false,
     "start_time": "2025-07-18T11:19:57.556399",
     "status": "completed"
    },
    "tags": []
   },
   "outputs": [],
   "source": [
    " \n"
   ]
  },
  {
   "cell_type": "code",
   "execution_count": 8,
   "id": "b1dcfcaa",
   "metadata": {
    "execution": {
     "iopub.execute_input": "2025-07-18T11:19:57.572016Z",
     "iopub.status.busy": "2025-07-18T11:19:57.571398Z",
     "iopub.status.idle": "2025-07-18T11:19:57.576933Z",
     "shell.execute_reply": "2025-07-18T11:19:57.576010Z"
    },
    "papermill": {
     "duration": 0.012552,
     "end_time": "2025-07-18T11:19:57.578307",
     "exception": false,
     "start_time": "2025-07-18T11:19:57.565755",
     "status": "completed"
    },
    "tags": []
   },
   "outputs": [
    {
     "data": {
      "text/plain": [
       "'\\nXy = X_full_copy.copy()\\nXy[\"Cluster\"] = Xy.Cluster.astype(\"category\")\\nXy[\"SalePrice\"] = y\\nsns.relplot(\\n    x=\"value\", y=\"Rings\", hue=\"Cluster\", col=\"variable\",\\n    height=4, aspect=1, facet_kws={\\'sharex\\': False}, col_wrap=3,\\n    data=Xy.melt(\\n        value_vars=features, id_vars=[\"Rings\", \"Cluster\"],\\n    ),\\n);\\n'"
      ]
     },
     "execution_count": 8,
     "metadata": {},
     "output_type": "execute_result"
    }
   ],
   "source": [
    "\"\"\"\n",
    "Xy = X_full_copy.copy()\n",
    "Xy[\"Cluster\"] = Xy.Cluster.astype(\"category\")\n",
    "Xy[\"SalePrice\"] = y\n",
    "sns.relplot(\n",
    "    x=\"value\", y=\"Rings\", hue=\"Cluster\", col=\"variable\",\n",
    "    height=4, aspect=1, facet_kws={'sharex': False}, col_wrap=3,\n",
    "    data=Xy.melt(\n",
    "        value_vars=features, id_vars=[\"Rings\", \"Cluster\"],\n",
    "    ),\n",
    ");\n",
    "\"\"\"\n",
    "\n"
   ]
  },
  {
   "cell_type": "code",
   "execution_count": 9,
   "id": "3aa608c1",
   "metadata": {
    "execution": {
     "iopub.execute_input": "2025-07-18T11:19:57.590159Z",
     "iopub.status.busy": "2025-07-18T11:19:57.589424Z",
     "iopub.status.idle": "2025-07-18T11:20:00.053017Z",
     "shell.execute_reply": "2025-07-18T11:20:00.052264Z"
    },
    "papermill": {
     "duration": 2.471357,
     "end_time": "2025-07-18T11:20:00.054812",
     "exception": false,
     "start_time": "2025-07-18T11:19:57.583455",
     "status": "completed"
    },
    "tags": []
   },
   "outputs": [
    {
     "data": {
      "text/plain": [
       "0.15105693727743394"
      ]
     },
     "execution_count": 9,
     "metadata": {},
     "output_type": "execute_result"
    }
   ],
   "source": [
    "score_dataset(X_full, y)"
   ]
  },
  {
   "cell_type": "code",
   "execution_count": 10,
   "id": "7a366b93",
   "metadata": {
    "execution": {
     "iopub.execute_input": "2025-07-18T11:20:00.068548Z",
     "iopub.status.busy": "2025-07-18T11:20:00.068224Z",
     "iopub.status.idle": "2025-07-18T11:20:00.086268Z",
     "shell.execute_reply": "2025-07-18T11:20:00.085308Z"
    },
    "papermill": {
     "duration": 0.026771,
     "end_time": "2025-07-18T11:20:00.088054",
     "exception": false,
     "start_time": "2025-07-18T11:20:00.061283",
     "status": "completed"
    },
    "tags": []
   },
   "outputs": [],
   "source": [
    "#Break off validation set from training data\n",
    "X_train, X_valid, y_train, y_valid = train_test_split(X_full, y, train_size=0.8, test_size=0.2,\n",
    "                                                      random_state=0)"
   ]
  },
  {
   "cell_type": "code",
   "execution_count": 11,
   "id": "7eb973a2",
   "metadata": {
    "execution": {
     "iopub.execute_input": "2025-07-18T11:20:00.099637Z",
     "iopub.status.busy": "2025-07-18T11:20:00.099295Z",
     "iopub.status.idle": "2025-07-18T11:20:00.103211Z",
     "shell.execute_reply": "2025-07-18T11:20:00.102501Z"
    },
    "papermill": {
     "duration": 0.011215,
     "end_time": "2025-07-18T11:20:00.104530",
     "exception": false,
     "start_time": "2025-07-18T11:20:00.093315",
     "status": "completed"
    },
    "tags": []
   },
   "outputs": [],
   "source": [
    "model_XGB = XGBRegressor(random_state=0)\n"
   ]
  },
  {
   "cell_type": "code",
   "execution_count": 12,
   "id": "a3f61666",
   "metadata": {
    "execution": {
     "iopub.execute_input": "2025-07-18T11:20:00.116105Z",
     "iopub.status.busy": "2025-07-18T11:20:00.115806Z",
     "iopub.status.idle": "2025-07-18T11:20:00.120324Z",
     "shell.execute_reply": "2025-07-18T11:20:00.119468Z"
    },
    "papermill": {
     "duration": 0.012147,
     "end_time": "2025-07-18T11:20:00.121917",
     "exception": false,
     "start_time": "2025-07-18T11:20:00.109770",
     "status": "completed"
    },
    "tags": []
   },
   "outputs": [],
   "source": [
    "# Create the pipeline\n",
    "final_pipeline = Pipeline(steps=[\n",
    "    ('preprocessor', OrdinalEncoder(handle_unknown='use_encoded_value', unknown_value=-1)),\n",
    "    ('model', model_XGB)\n",
    "])\n"
   ]
  },
  {
   "cell_type": "markdown",
   "id": "b3d8f883",
   "metadata": {
    "papermill": {
     "duration": 0.004983,
     "end_time": "2025-07-18T11:20:00.132196",
     "exception": false,
     "start_time": "2025-07-18T11:20:00.127213",
     "status": "completed"
    },
    "tags": []
   },
   "source": [
    "<h2>Train a model for the competion</h2>"
   ]
  },
  {
   "cell_type": "code",
   "execution_count": 13,
   "id": "8b90e3a3",
   "metadata": {
    "execution": {
     "iopub.execute_input": "2025-07-18T11:20:00.143648Z",
     "iopub.status.busy": "2025-07-18T11:20:00.143314Z",
     "iopub.status.idle": "2025-07-18T11:20:01.077196Z",
     "shell.execute_reply": "2025-07-18T11:20:01.076251Z"
    },
    "papermill": {
     "duration": 0.941497,
     "end_time": "2025-07-18T11:20:01.078773",
     "exception": false,
     "start_time": "2025-07-18T11:20:00.137276",
     "status": "completed"
    },
    "tags": []
   },
   "outputs": [
    {
     "name": "stdout",
     "output_type": "stream",
     "text": [
      "Predictions saved to 'submission.csv'\n"
     ]
    }
   ],
   "source": [
    "final_pipeline.fit(X_full, y)\n",
    "# 2. Select numeric columns from the test data\n",
    "test_preds = final_pipeline.predict(X_test_full)\n",
    "# 3. Make predictions on the test data\n",
    "# 4. Create the output DataFrame for submission\n",
    "output = pd.DataFrame({'id': X_test_full.index, \n",
    "                       'Rings': test_preds})\n",
    "\n",
    "# 5. Save the predictions to a CSV file for submission\n",
    "output.to_csv('submission.csv', index=False)\n",
    "\n",
    "print(\"Predictions saved to 'submission.csv'\")"
   ]
  }
 ],
 "metadata": {
  "kaggle": {
   "accelerator": "none",
   "dataSources": [
    {
     "databundleVersionId": 8096274,
     "sourceId": 72489,
     "sourceType": "competition"
    }
   ],
   "dockerImageVersionId": 31089,
   "isGpuEnabled": false,
   "isInternetEnabled": true,
   "language": "python",
   "sourceType": "notebook"
  },
  "kernelspec": {
   "display_name": "Python 3",
   "language": "python",
   "name": "python3"
  },
  "language_info": {
   "codemirror_mode": {
    "name": "ipython",
    "version": 3
   },
   "file_extension": ".py",
   "mimetype": "text/x-python",
   "name": "python",
   "nbconvert_exporter": "python",
   "pygments_lexer": "ipython3",
   "version": "3.11.13"
  },
  "papermill": {
   "default_parameters": {},
   "duration": 25.674022,
   "end_time": "2025-07-18T11:20:01.904497",
   "environment_variables": {},
   "exception": null,
   "input_path": "__notebook__.ipynb",
   "output_path": "__notebook__.ipynb",
   "parameters": {},
   "start_time": "2025-07-18T11:19:36.230475",
   "version": "2.6.0"
  }
 },
 "nbformat": 4,
 "nbformat_minor": 5
}
