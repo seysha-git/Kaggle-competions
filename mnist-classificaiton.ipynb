{
 "cells": [
  {
   "cell_type": "code",
   "execution_count": 1,
   "id": "f8e1c808",
   "metadata": {
    "_cell_guid": "b1076dfc-b9ad-4769-8c92-a6c4dae69d19",
    "_uuid": "8f2839f25d086af736a60e9eeb907d3b93b6e0e5",
    "execution": {
     "iopub.execute_input": "2025-08-03T18:55:31.137890Z",
     "iopub.status.busy": "2025-08-03T18:55:31.137231Z",
     "iopub.status.idle": "2025-08-03T18:55:34.685600Z",
     "shell.execute_reply": "2025-08-03T18:55:34.684442Z"
    },
    "papermill": {
     "duration": 3.556702,
     "end_time": "2025-08-03T18:55:34.688249",
     "exception": false,
     "start_time": "2025-08-03T18:55:31.131547",
     "status": "completed"
    },
    "tags": []
   },
   "outputs": [],
   "source": [
    "import numpy as np # linear algebra\n",
    "import pandas as pd # data processing, CSV file I/O (e.g. pd.read_csv)\n",
    "from sklearn.datasets import fetch_openml\n",
    "import matplotlib as mpl\n",
    "import matplotlib.pyplot as plt\n",
    "from sklearn.linear_model import SGDClassifier\n",
    "from sklearn.model_selection import cross_val_score\n",
    "from sklearn.model_selection import cross_val_predict\n",
    "from sklearn.metrics import classification_report, confusion_matrix\n",
    "from sklearn.metrics import precision_score, recall_score\n",
    "from sklearn.metrics import f1_score\n",
    "from sklearn.metrics import precision_recall_curve\n",
    "from sklearn.metrics import roc_curve\n",
    "from sklearn.metrics import roc_auc_score\n",
    "from sklearn.model_selection import train_test_split\n",
    "from sklearn.ensemble import RandomForestClassifier"
   ]
  },
  {
   "cell_type": "markdown",
   "id": "4149c009",
   "metadata": {
    "papermill": {
     "duration": 0.005318,
     "end_time": "2025-08-03T18:55:34.699748",
     "exception": false,
     "start_time": "2025-08-03T18:55:34.694430",
     "status": "completed"
    },
    "tags": []
   },
   "source": [
    "<h1>Utility functions</h1>"
   ]
  },
  {
   "cell_type": "code",
   "execution_count": 2,
   "id": "bc898065",
   "metadata": {
    "execution": {
     "iopub.execute_input": "2025-08-03T18:55:34.708070Z",
     "iopub.status.busy": "2025-08-03T18:55:34.707586Z",
     "iopub.status.idle": "2025-08-03T18:55:34.713527Z",
     "shell.execute_reply": "2025-08-03T18:55:34.712614Z"
    },
    "papermill": {
     "duration": 0.011781,
     "end_time": "2025-08-03T18:55:34.715083",
     "exception": false,
     "start_time": "2025-08-03T18:55:34.703302",
     "status": "completed"
    },
    "tags": []
   },
   "outputs": [],
   "source": [
    "def print_image(row, df):\n",
    "    temp=df.iloc[row,:].values\n",
    "    temp = temp.reshape(28,28).astype('uint8')\n",
    "    plt.imshow(temp)\n",
    "\n",
    "# since sklearn 0.22, you can use sklearn.metrics.plot_confusion_matrix()\n",
    "def plot_confusion_matrix(matrix):\n",
    "    \"\"\"If you prefer color and a colorbar\"\"\"\n",
    "    fig = plt.figure(figsize=(8,8))\n",
    "    ax = fig.add_subplot(111)\n",
    "    cax = ax.matshow(matrix)\n",
    "    fig.colorbar(cax)"
   ]
  },
  {
   "cell_type": "markdown",
   "id": "33e317a5",
   "metadata": {
    "papermill": {
     "duration": 0.003048,
     "end_time": "2025-08-03T18:55:34.721631",
     "exception": false,
     "start_time": "2025-08-03T18:55:34.718583",
     "status": "completed"
    },
    "tags": []
   },
   "source": [
    "<h1>Read the data</h1>"
   ]
  },
  {
   "cell_type": "code",
   "execution_count": 3,
   "id": "5e83e56a",
   "metadata": {
    "execution": {
     "iopub.execute_input": "2025-08-03T18:55:34.729653Z",
     "iopub.status.busy": "2025-08-03T18:55:34.729282Z",
     "iopub.status.idle": "2025-08-03T18:55:39.839781Z",
     "shell.execute_reply": "2025-08-03T18:55:39.839003Z"
    },
    "papermill": {
     "duration": 5.116303,
     "end_time": "2025-08-03T18:55:39.841477",
     "exception": false,
     "start_time": "2025-08-03T18:55:34.725174",
     "status": "completed"
    },
    "tags": []
   },
   "outputs": [],
   "source": [
    "train_df = pd.read_csv(\"/kaggle/input/digit-recognizer/train.csv\")\n",
    "test_df = pd.read_csv(\"/kaggle/input/digit-recognizer/test.csv\")"
   ]
  },
  {
   "cell_type": "markdown",
   "id": "3e7ba31f",
   "metadata": {
    "papermill": {
     "duration": 0.003342,
     "end_time": "2025-08-03T18:55:39.848557",
     "exception": false,
     "start_time": "2025-08-03T18:55:39.845215",
     "status": "completed"
    },
    "tags": []
   },
   "source": [
    "<p>Quick look</p>"
   ]
  },
  {
   "cell_type": "code",
   "execution_count": 4,
   "id": "23b4e183",
   "metadata": {
    "execution": {
     "iopub.execute_input": "2025-08-03T18:55:39.857086Z",
     "iopub.status.busy": "2025-08-03T18:55:39.856767Z",
     "iopub.status.idle": "2025-08-03T18:55:39.863014Z",
     "shell.execute_reply": "2025-08-03T18:55:39.862141Z"
    },
    "papermill": {
     "duration": 0.012173,
     "end_time": "2025-08-03T18:55:39.864382",
     "exception": false,
     "start_time": "2025-08-03T18:55:39.852209",
     "status": "completed"
    },
    "tags": []
   },
   "outputs": [
    {
     "data": {
      "text/plain": [
       "(42000, 785)"
      ]
     },
     "execution_count": 4,
     "metadata": {},
     "output_type": "execute_result"
    }
   ],
   "source": [
    "train_df.shape"
   ]
  },
  {
   "cell_type": "code",
   "execution_count": 5,
   "id": "584f0492",
   "metadata": {
    "execution": {
     "iopub.execute_input": "2025-08-03T18:55:39.872767Z",
     "iopub.status.busy": "2025-08-03T18:55:39.872441Z",
     "iopub.status.idle": "2025-08-03T18:55:39.878961Z",
     "shell.execute_reply": "2025-08-03T18:55:39.878085Z"
    },
    "papermill": {
     "duration": 0.01241,
     "end_time": "2025-08-03T18:55:39.880428",
     "exception": false,
     "start_time": "2025-08-03T18:55:39.868018",
     "status": "completed"
    },
    "tags": []
   },
   "outputs": [
    {
     "data": {
      "text/plain": [
       "(42000, 784)"
      ]
     },
     "execution_count": 5,
     "metadata": {},
     "output_type": "execute_result"
    }
   ],
   "source": [
    "X, y = train_df.iloc[:,1:], train_df.iloc[:, 0]\n",
    "X.shape\n",
    "#y.shape"
   ]
  },
  {
   "cell_type": "code",
   "execution_count": 6,
   "id": "3d86087a",
   "metadata": {
    "execution": {
     "iopub.execute_input": "2025-08-03T18:55:39.888974Z",
     "iopub.status.busy": "2025-08-03T18:55:39.888665Z",
     "iopub.status.idle": "2025-08-03T18:55:40.168290Z",
     "shell.execute_reply": "2025-08-03T18:55:40.167398Z"
    },
    "papermill": {
     "duration": 0.285542,
     "end_time": "2025-08-03T18:55:40.169774",
     "exception": false,
     "start_time": "2025-08-03T18:55:39.884232",
     "status": "completed"
    },
    "tags": []
   },
   "outputs": [
    {
     "data": {
      "image/png": "[encoded data removed]",
      "text/plain": [
       "<Figure size 640x480 with 1 Axes>"
      ]
     },
     "metadata": {},
     "output_type": "display_data"
    }
   ],
   "source": [
    "print_image(3, X)"
   ]
  },
  {
   "cell_type": "markdown",
   "id": "4a7bf07a",
   "metadata": {
    "papermill": {
     "duration": 0.00338,
     "end_time": "2025-08-03T18:55:40.177099",
     "exception": false,
     "start_time": "2025-08-03T18:55:40.173719",
     "status": "completed"
    },
    "tags": []
   },
   "source": [
    "<h4>Train test split</h4>"
   ]
  },
  {
   "cell_type": "code",
   "execution_count": 7,
   "id": "612c30e3",
   "metadata": {
    "execution": {
     "iopub.execute_input": "2025-08-03T18:55:40.186233Z",
     "iopub.status.busy": "2025-08-03T18:55:40.185930Z",
     "iopub.status.idle": "2025-08-03T18:55:40.429485Z",
     "shell.execute_reply": "2025-08-03T18:55:40.428607Z"
    },
    "papermill": {
     "duration": 0.249536,
     "end_time": "2025-08-03T18:55:40.431112",
     "exception": false,
     "start_time": "2025-08-03T18:55:40.181576",
     "status": "completed"
    },
    "tags": []
   },
   "outputs": [],
   "source": [
    "X_train, X_test, y_train, y_test = train_test_split(X, y, test_size=0.2, random_state=0)"
   ]
  },
  {
   "cell_type": "markdown",
   "id": "8d158e88",
   "metadata": {
    "papermill": {
     "duration": 0.003489,
     "end_time": "2025-08-03T18:55:40.438497",
     "exception": false,
     "start_time": "2025-08-03T18:55:40.435008",
     "status": "completed"
    },
    "tags": []
   },
   "source": [
    "<h1>Training a classifier</h1>"
   ]
  },
  {
   "cell_type": "code",
   "execution_count": 8,
   "id": "cec87c04",
   "metadata": {
    "execution": {
     "iopub.execute_input": "2025-08-03T18:55:40.447922Z",
     "iopub.status.busy": "2025-08-03T18:55:40.447561Z",
     "iopub.status.idle": "2025-08-03T18:55:40.451970Z",
     "shell.execute_reply": "2025-08-03T18:55:40.451245Z"
    },
    "papermill": {
     "duration": 0.010487,
     "end_time": "2025-08-03T18:55:40.453184",
     "exception": false,
     "start_time": "2025-08-03T18:55:40.442697",
     "status": "completed"
    },
    "tags": []
   },
   "outputs": [],
   "source": [
    "sgd_clf = SGDClassifier(max_iter=1000, tol=1e-3, random_state=42)"
   ]
  },
  {
   "cell_type": "code",
   "execution_count": 9,
   "id": "e344c913",
   "metadata": {
    "execution": {
     "iopub.execute_input": "2025-08-03T18:55:40.461956Z",
     "iopub.status.busy": "2025-08-03T18:55:40.461291Z",
     "iopub.status.idle": "2025-08-03T18:56:58.555376Z",
     "shell.execute_reply": "2025-08-03T18:56:58.554376Z"
    },
    "papermill": {
     "duration": 78.100299,
     "end_time": "2025-08-03T18:56:58.557267",
     "exception": false,
     "start_time": "2025-08-03T18:55:40.456968",
     "status": "completed"
    },
    "tags": []
   },
   "outputs": [],
   "source": [
    "sgd_clf.fit(X_train, y_train)\n",
    "preds = sgd_clf.predict(X_test)"
   ]
  },
  {
   "cell_type": "code",
   "execution_count": 10,
   "id": "c999144f",
   "metadata": {
    "execution": {
     "iopub.execute_input": "2025-08-03T18:56:58.568704Z",
     "iopub.status.busy": "2025-08-03T18:56:58.567921Z",
     "iopub.status.idle": "2025-08-03T18:56:58.600684Z",
     "shell.execute_reply": "2025-08-03T18:56:58.599673Z"
    },
    "papermill": {
     "duration": 0.040085,
     "end_time": "2025-08-03T18:56:58.602239",
     "exception": false,
     "start_time": "2025-08-03T18:56:58.562154",
     "status": "completed"
    },
    "tags": []
   },
   "outputs": [
    {
     "name": "stdout",
     "output_type": "stream",
     "text": [
      "Classification Report\n",
      "              precision    recall  f1-score   support\n",
      "\n",
      "           0       0.91      0.96      0.94       813\n",
      "           1       0.97      0.93      0.95       961\n",
      "           2       0.85      0.92      0.88       860\n",
      "           3       0.92      0.75      0.83       863\n",
      "           4       0.90      0.89      0.89       827\n",
      "           5       0.64      0.90      0.74       756\n",
      "           6       0.92      0.94      0.93       841\n",
      "           7       0.89      0.92      0.91       899\n",
      "           8       0.79      0.78      0.79       768\n",
      "           9       0.94      0.66      0.77       812\n",
      "\n",
      "    accuracy                           0.87      8400\n",
      "   macro avg       0.87      0.86      0.86      8400\n",
      "weighted avg       0.88      0.87      0.87      8400\n",
      "\n",
      "Confusion Report\n",
      "[[784   0   4   1   0   5  12   0   7   0]\n",
      " [  1 889  19   8   0   9   4   2  29   0]\n",
      " [  8   5 789   8   5  13  15   7  10   0]\n",
      " [  5   1  43 649   3 119   4   7  26   6]\n",
      " [  4   6  10   1 736  20   9   6  17  18]\n",
      " [ 15   1   7  10   3 677  14   2  24   3]\n",
      " [ 10   0  14   0   2  25 788   0   2   0]\n",
      " [  5   4  22   3   8  11   2 827  10   7]\n",
      " [  9   6  16   9   1 110  11   3 602   1]\n",
      " [ 19   2   4  14  61  76   0  71  33 532]]\n"
     ]
    }
   ],
   "source": [
    "print (\"Classification Report\")\n",
    "print(classification_report(y_test, preds))\n",
    "print (\"Confusion Report\")\n",
    "print(confusion_matrix(y_test, preds))"
   ]
  },
  {
   "cell_type": "code",
   "execution_count": 11,
   "id": "a87744ff",
   "metadata": {
    "execution": {
     "iopub.execute_input": "2025-08-03T18:56:58.610906Z",
     "iopub.status.busy": "2025-08-03T18:56:58.610607Z",
     "iopub.status.idle": "2025-08-03T18:56:58.778293Z",
     "shell.execute_reply": "2025-08-03T18:56:58.777451Z"
    },
    "papermill": {
     "duration": 0.173802,
     "end_time": "2025-08-03T18:56:58.779886",
     "exception": false,
     "start_time": "2025-08-03T18:56:58.606084",
     "status": "completed"
    },
    "tags": []
   },
   "outputs": [
    {
     "data": {
      "image/png": "[encoded data removed]",
      "text/plain": [
       "<Figure size 480x480 with 1 Axes>"
      ]
     },
     "metadata": {},
     "output_type": "display_data"
    }
   ],
   "source": [
    "plt.matshow(confusion_matrix(y_test, preds), cmap=plt.cm.gray)\n",
    "plt.show()\n"
   ]
  },
  {
   "cell_type": "code",
   "execution_count": 12,
   "id": "673ec566",
   "metadata": {
    "execution": {
     "iopub.execute_input": "2025-08-03T18:56:58.789439Z",
     "iopub.status.busy": "2025-08-03T18:56:58.789084Z",
     "iopub.status.idle": "2025-08-03T18:58:54.750834Z",
     "shell.execute_reply": "2025-08-03T18:58:54.749622Z"
    },
    "papermill": {
     "duration": 115.975658,
     "end_time": "2025-08-03T18:58:54.759848",
     "exception": false,
     "start_time": "2025-08-03T18:56:58.784190",
     "status": "completed"
    },
    "tags": []
   },
   "outputs": [
    {
     "name": "stdout",
     "output_type": "stream",
     "text": [
      "0.9613988095238095\n"
     ]
    }
   ],
   "source": [
    "rf=RandomForestClassifier(n_estimators=100)\n",
    "rf.fit(X_train, y_train)\n",
    "score = cross_val_score(rf, X_train, y_train)\n",
    "print(np.mean(score))"
   ]
  },
  {
   "cell_type": "code",
   "execution_count": 13,
   "id": "74aedb4e",
   "metadata": {
    "execution": {
     "iopub.execute_input": "2025-08-03T18:58:54.771338Z",
     "iopub.status.busy": "2025-08-03T18:58:54.770476Z",
     "iopub.status.idle": "2025-08-03T18:58:55.124503Z",
     "shell.execute_reply": "2025-08-03T18:58:55.123752Z"
    },
    "papermill": {
     "duration": 0.361863,
     "end_time": "2025-08-03T18:58:55.126324",
     "exception": false,
     "start_time": "2025-08-03T18:58:54.764461",
     "status": "completed"
    },
    "tags": []
   },
   "outputs": [],
   "source": [
    "#Predicting on test data\n",
    "preds=rf.predict(X_test)"
   ]
  },
  {
   "cell_type": "code",
   "execution_count": 14,
   "id": "90e3f40b",
   "metadata": {
    "execution": {
     "iopub.execute_input": "2025-08-03T18:58:55.136093Z",
     "iopub.status.busy": "2025-08-03T18:58:55.135792Z",
     "iopub.status.idle": "2025-08-03T18:58:55.173418Z",
     "shell.execute_reply": "2025-08-03T18:58:55.172532Z"
    },
    "papermill": {
     "duration": 0.044001,
     "end_time": "2025-08-03T18:58:55.174921",
     "exception": false,
     "start_time": "2025-08-03T18:58:55.130920",
     "status": "completed"
    },
    "tags": []
   },
   "outputs": [
    {
     "name": "stdout",
     "output_type": "stream",
     "text": [
      "Sumission to cv sucseess!\n"
     ]
    }
   ],
   "source": [
    "preds = pd.Series(preds,name=\"Label\")\n",
    "submission = pd.concat([pd.Series(range(1,28001),name = \"ImageId\"),preds],axis = 1)\n",
    "submission.to_csv(\"mnist_rf.csv\",index=False)\n",
    "print(\"Sumission to cv sucseess!\")"
   ]
  }
 ],
 "metadata": {
  "kaggle": {
   "accelerator": "none",
   "dataSources": [
    {
     "databundleVersionId": 861823,
     "sourceId": 3004,
     "sourceType": "competition"
    }
   ],
   "dockerImageVersionId": 31089,
   "isGpuEnabled": false,
   "isInternetEnabled": true,
   "language": "python",
   "sourceType": "notebook"
  },
  "kernelspec": {
   "display_name": "Python 3",
   "language": "python",
   "name": "python3"
  },
  "language_info": {
   "codemirror_mode": {
    "name": "ipython",
    "version": 3
   },
   "file_extension": ".py",
   "mimetype": "text/x-python",
   "name": "python",
   "nbconvert_exporter": "python",
   "pygments_lexer": "ipython3",
   "version": "3.11.13"
  },
  "papermill": {
   "default_parameters": {},
   "duration": 209.36957,
   "end_time": "2025-08-03T18:58:55.898903",
   "environment_variables": {},
   "exception": null,
   "input_path": "__notebook__.ipynb",
   "output_path": "__notebook__.ipynb",
   "parameters": {},
   "start_time": "2025-08-03T18:55:26.529333",
   "version": "2.6.0"
  }
 },
 "nbformat": 4,
 "nbformat_minor": 5
}
