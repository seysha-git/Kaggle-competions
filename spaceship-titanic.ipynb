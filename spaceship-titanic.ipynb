{
 "cells": [
  {
   "cell_type": "markdown",
   "id": "fdf622e7",
   "metadata": {
    "papermill": {
     "duration": 0.006656,
     "end_time": "2025-08-10T21:34:41.705996",
     "exception": false,
     "start_time": "2025-08-10T21:34:41.699340",
     "status": "completed"
    },
    "tags": []
   },
   "source": [
    "<h1>Import libraries</h1>"
   ]
  },
  {
   "cell_type": "code",
   "execution_count": 1,
   "id": "0aa476ff",
   "metadata": {
    "execution": {
     "iopub.execute_input": "2025-08-10T21:34:41.718842Z",
     "iopub.status.busy": "2025-08-10T21:34:41.718514Z",
     "iopub.status.idle": "2025-08-10T21:34:47.170922Z",
     "shell.execute_reply": "2025-08-10T21:34:47.169380Z"
    },
    "papermill": {
     "duration": 5.461096,
     "end_time": "2025-08-10T21:34:47.172948",
     "exception": false,
     "start_time": "2025-08-10T21:34:41.711852",
     "status": "completed"
    },
    "tags": []
   },
   "outputs": [],
   "source": [
    "import pandas as pd\n",
    "import numpy as np\n",
    "import missingno as msno\n",
    "import matplotlib as plt\n",
    "import seaborn as sns\n",
    "from sklearn.pipeline import Pipeline\n",
    "from sklearn.impute import SimpleImputer\n",
    "from sklearn.preprocessing import StandardScaler, OneHotEncoder\n",
    "from sklearn.compose import ColumnTransformer\n",
    "from sklearn.model_selection import cross_val_score\n",
    "from sklearn.ensemble import RandomForestClassifier\n",
    "from sklearn.svm import SVC\n",
    "\n",
    "from sklearn.feature_selection import mutual_info_regression\n",
    "from sklearn.feature_selection import mutual_info_classif\n",
    "from sklearn.decomposition import PCA\n",
    "from sklearn.base import BaseEstimator, TransformerMixin"
   ]
  },
  {
   "cell_type": "code",
   "execution_count": 2,
   "id": "b19e5597",
   "metadata": {
    "execution": {
     "iopub.execute_input": "2025-08-10T21:34:47.190833Z",
     "iopub.status.busy": "2025-08-10T21:34:47.190049Z",
     "iopub.status.idle": "2025-08-10T21:34:47.199141Z",
     "shell.execute_reply": "2025-08-10T21:34:47.197943Z"
    },
    "papermill": {
     "duration": 0.020914,
     "end_time": "2025-08-10T21:34:47.201289",
     "exception": false,
     "start_time": "2025-08-10T21:34:47.180375",
     "status": "completed"
    },
    "tags": []
   },
   "outputs": [],
   "source": [
    "#Utility functions\n",
    "def missing_values_table(df):\n",
    "        # Total missing values\n",
    "        mis_val = df.isnull().sum()\n",
    "        \n",
    "        # Percentage of missing values\n",
    "        mis_val_percent = 100 * df.isnull().sum() / len(df)\n",
    "        \n",
    "        # Make a table with the results\n",
    "        mis_val_table = pd.concat([mis_val, mis_val_percent], axis=1)\n",
    "        \n",
    "        # Rename the columns\n",
    "        mis_val_table_ren_columns = mis_val_table.rename(\n",
    "        columns = {0 : 'Missing Values', 1 : '% of Total Values'})\n",
    "        # Sort the table by percentage of missing descending\n",
    "        mis_val_table_ren_columns = mis_val_table_ren_columns[\n",
    "            mis_val_table_ren_columns.iloc[:,1] != 0].sort_values(\n",
    "        '% of Total Values', ascending=False).round(1)\n",
    "        \n",
    "        # Print some summary information\n",
    "        print (\"Your selected dataframe has \" + str(df.shape[1]) + \" columns.\\n\"      \n",
    "            \"There are \" + str(mis_val_table_ren_columns.shape[0]) +\n",
    "              \" columns that have missing values.\")\n",
    "        \n",
    "        # Return the dataframe with missing information\n",
    "        return mis_val_table_ren_columns\n",
    "\n"
   ]
  },
  {
   "cell_type": "markdown",
   "id": "187e3686",
   "metadata": {
    "papermill": {
     "duration": 0.005362,
     "end_time": "2025-08-10T21:34:47.213465",
     "exception": false,
     "start_time": "2025-08-10T21:34:47.208103",
     "status": "completed"
    },
    "tags": []
   },
   "source": [
    "<h1>1. Get the data</h1>"
   ]
  },
  {
   "cell_type": "code",
   "execution_count": 3,
   "id": "f0aa9ac5",
   "metadata": {
    "execution": {
     "iopub.execute_input": "2025-08-10T21:34:47.225857Z",
     "iopub.status.busy": "2025-08-10T21:34:47.225487Z",
     "iopub.status.idle": "2025-08-10T21:34:47.354710Z",
     "shell.execute_reply": "2025-08-10T21:34:47.353441Z"
    },
    "papermill": {
     "duration": 0.137926,
     "end_time": "2025-08-10T21:34:47.356756",
     "exception": false,
     "start_time": "2025-08-10T21:34:47.218830",
     "status": "completed"
    },
    "tags": []
   },
   "outputs": [],
   "source": [
    "train_df = pd.read_csv(\"/kaggle/input/spaceship-titanic/train.csv\", index_col=\"PassengerId\")\n",
    "test_df = pd.read_csv(\"/kaggle/input/spaceship-titanic/test.csv\", index_col=\"PassengerId\")"
   ]
  },
  {
   "cell_type": "code",
   "execution_count": 4,
   "id": "d39cf55b",
   "metadata": {
    "execution": {
     "iopub.execute_input": "2025-08-10T21:34:47.369910Z",
     "iopub.status.busy": "2025-08-10T21:34:47.369168Z",
     "iopub.status.idle": "2025-08-10T21:34:47.405456Z",
     "shell.execute_reply": "2025-08-10T21:34:47.404081Z"
    },
    "papermill": {
     "duration": 0.044522,
     "end_time": "2025-08-10T21:34:47.407354",
     "exception": false,
     "start_time": "2025-08-10T21:34:47.362832",
     "status": "completed"
    },
    "tags": []
   },
   "outputs": [
    {
     "data": {
      "text/html": [
       "<div>\n",
       "<style scoped>\n",
       "    .dataframe tbody tr th:only-of-type {\n",
       "        vertical-align: middle;\n",
       "    }\n",
       "\n",
       "    .dataframe tbody tr th {\n",
       "        vertical-align: top;\n",
       "    }\n",
       "\n",
       "    .dataframe thead th {\n",
       "        text-align: right;\n",
       "    }\n",
       "</style>\n",
       "<table border=\"1\" class=\"dataframe\">\n",
       "  <thead>\n",
       "    <tr style=\"text-align: right;\">\n",
       "      <th></th>\n",
       "      <th>HomePlanet</th>\n",
       "      <th>CryoSleep</th>\n",
       "      <th>Cabin</th>\n",
       "      <th>Destination</th>\n",
       "      <th>Age</th>\n",
       "      <th>VIP</th>\n",
       "      <th>RoomService</th>\n",
       "      <th>FoodCourt</th>\n",
       "      <th>ShoppingMall</th>\n",
       "      <th>Spa</th>\n",
       "      <th>VRDeck</th>\n",
       "      <th>Name</th>\n",
       "      <th>Transported</th>\n",
       "    </tr>\n",
       "    <tr>\n",
       "      <th>PassengerId</th>\n",
       "      <th></th>\n",
       "      <th></th>\n",
       "      <th></th>\n",
       "      <th></th>\n",
       "      <th></th>\n",
       "      <th></th>\n",
       "      <th></th>\n",
       "      <th></th>\n",
       "      <th></th>\n",
       "      <th></th>\n",
       "      <th></th>\n",
       "      <th></th>\n",
       "      <th></th>\n",
       "    </tr>\n",
       "  </thead>\n",
       "  <tbody>\n",
       "    <tr>\n",
       "      <th>0001_01</th>\n",
       "      <td>Europa</td>\n",
       "      <td>False</td>\n",
       "      <td>B/0/P</td>\n",
       "      <td>TRAPPIST-1e</td>\n",
       "      <td>39.0</td>\n",
       "      <td>False</td>\n",
       "      <td>0.0</td>\n",
       "      <td>0.0</td>\n",
       "      <td>0.0</td>\n",
       "      <td>0.0</td>\n",
       "      <td>0.0</td>\n",
       "      <td>Maham Ofracculy</td>\n",
       "      <td>False</td>\n",
       "    </tr>\n",
       "    <tr>\n",
       "      <th>0002_01</th>\n",
       "      <td>Earth</td>\n",
       "      <td>False</td>\n",
       "      <td>F/0/S</td>\n",
       "      <td>TRAPPIST-1e</td>\n",
       "      <td>24.0</td>\n",
       "      <td>False</td>\n",
       "      <td>109.0</td>\n",
       "      <td>9.0</td>\n",
       "      <td>25.0</td>\n",
       "      <td>549.0</td>\n",
       "      <td>44.0</td>\n",
       "      <td>Juanna Vines</td>\n",
       "      <td>True</td>\n",
       "    </tr>\n",
       "    <tr>\n",
       "      <th>0003_01</th>\n",
       "      <td>Europa</td>\n",
       "      <td>False</td>\n",
       "      <td>A/0/S</td>\n",
       "      <td>TRAPPIST-1e</td>\n",
       "      <td>58.0</td>\n",
       "      <td>True</td>\n",
       "      <td>43.0</td>\n",
       "      <td>3576.0</td>\n",
       "      <td>0.0</td>\n",
       "      <td>6715.0</td>\n",
       "      <td>49.0</td>\n",
       "      <td>Altark Susent</td>\n",
       "      <td>False</td>\n",
       "    </tr>\n",
       "    <tr>\n",
       "      <th>0003_02</th>\n",
       "      <td>Europa</td>\n",
       "      <td>False</td>\n",
       "      <td>A/0/S</td>\n",
       "      <td>TRAPPIST-1e</td>\n",
       "      <td>33.0</td>\n",
       "      <td>False</td>\n",
       "      <td>0.0</td>\n",
       "      <td>1283.0</td>\n",
       "      <td>371.0</td>\n",
       "      <td>3329.0</td>\n",
       "      <td>193.0</td>\n",
       "      <td>Solam Susent</td>\n",
       "      <td>False</td>\n",
       "    </tr>\n",
       "    <tr>\n",
       "      <th>0004_01</th>\n",
       "      <td>Earth</td>\n",
       "      <td>False</td>\n",
       "      <td>F/1/S</td>\n",
       "      <td>TRAPPIST-1e</td>\n",
       "      <td>16.0</td>\n",
       "      <td>False</td>\n",
       "      <td>303.0</td>\n",
       "      <td>70.0</td>\n",
       "      <td>151.0</td>\n",
       "      <td>565.0</td>\n",
       "      <td>2.0</td>\n",
       "      <td>Willy Santantines</td>\n",
       "      <td>True</td>\n",
       "    </tr>\n",
       "  </tbody>\n",
       "</table>\n",
       "</div>"
      ],
      "text/plain": [
       "            HomePlanet CryoSleep  Cabin  Destination   Age    VIP  \\\n",
       "PassengerId                                                         \n",
       "0001_01         Europa     False  B/0/P  TRAPPIST-1e  39.0  False   \n",
       "0002_01          Earth     False  F/0/S  TRAPPIST-1e  24.0  False   \n",
       "0003_01         Europa     False  A/0/S  TRAPPIST-1e  58.0   True   \n",
       "0003_02         Europa     False  A/0/S  TRAPPIST-1e  33.0  False   \n",
       "0004_01          Earth     False  F/1/S  TRAPPIST-1e  16.0  False   \n",
       "\n",
       "             RoomService  FoodCourt  ShoppingMall     Spa  VRDeck  \\\n",
       "PassengerId                                                         \n",
       "0001_01              0.0        0.0           0.0     0.0     0.0   \n",
       "0002_01            109.0        9.0          25.0   549.0    44.0   \n",
       "0003_01             43.0     3576.0           0.0  6715.0    49.0   \n",
       "0003_02              0.0     1283.0         371.0  3329.0   193.0   \n",
       "0004_01            303.0       70.0         151.0   565.0     2.0   \n",
       "\n",
       "                          Name  Transported  \n",
       "PassengerId                                  \n",
       "0001_01        Maham Ofracculy        False  \n",
       "0002_01           Juanna Vines         True  \n",
       "0003_01          Altark Susent        False  \n",
       "0003_02           Solam Susent        False  \n",
       "0004_01      Willy Santantines         True  "
      ]
     },
     "execution_count": 4,
     "metadata": {},
     "output_type": "execute_result"
    }
   ],
   "source": [
    "train_df.head()"
   ]
  },
  {
   "cell_type": "code",
   "execution_count": 5,
   "id": "dc20cb92",
   "metadata": {
    "execution": {
     "iopub.execute_input": "2025-08-10T21:34:47.420815Z",
     "iopub.status.busy": "2025-08-10T21:34:47.420522Z",
     "iopub.status.idle": "2025-08-10T21:34:47.455030Z",
     "shell.execute_reply": "2025-08-10T21:34:47.453516Z"
    },
    "papermill": {
     "duration": 0.043932,
     "end_time": "2025-08-10T21:34:47.456999",
     "exception": false,
     "start_time": "2025-08-10T21:34:47.413067",
     "status": "completed"
    },
    "tags": []
   },
   "outputs": [
    {
     "name": "stdout",
     "output_type": "stream",
     "text": [
      "<class 'pandas.core.frame.DataFrame'>\n",
      "Index: 8693 entries, 0001_01 to 9280_02\n",
      "Data columns (total 13 columns):\n",
      " #   Column        Non-Null Count  Dtype  \n",
      "---  ------        --------------  -----  \n",
      " 0   HomePlanet    8492 non-null   object \n",
      " 1   CryoSleep     8476 non-null   object \n",
      " 2   Cabin         8494 non-null   object \n",
      " 3   Destination   8511 non-null   object \n",
      " 4   Age           8514 non-null   float64\n",
      " 5   VIP           8490 non-null   object \n",
      " 6   RoomService   8512 non-null   float64\n",
      " 7   FoodCourt     8510 non-null   float64\n",
      " 8   ShoppingMall  8485 non-null   float64\n",
      " 9   Spa           8510 non-null   float64\n",
      " 10  VRDeck        8505 non-null   float64\n",
      " 11  Name          8493 non-null   object \n",
      " 12  Transported   8693 non-null   bool   \n",
      "dtypes: bool(1), float64(6), object(6)\n",
      "memory usage: 891.4+ KB\n"
     ]
    }
   ],
   "source": [
    "train_df.info()"
   ]
  },
  {
   "cell_type": "markdown",
   "id": "97dea0e6",
   "metadata": {
    "papermill": {
     "duration": 0.005706,
     "end_time": "2025-08-10T21:34:47.468503",
     "exception": false,
     "start_time": "2025-08-10T21:34:47.462797",
     "status": "completed"
    },
    "tags": []
   },
   "source": [
    "<h5>The data is already split into a train and test split</h5>"
   ]
  },
  {
   "cell_type": "markdown",
   "id": "7df7f93b",
   "metadata": {
    "papermill": {
     "duration": 0.005915,
     "end_time": "2025-08-10T21:34:47.480550",
     "exception": false,
     "start_time": "2025-08-10T21:34:47.474635",
     "status": "completed"
    },
    "tags": []
   },
   "source": [
    "<h1>2. EDA</h1>"
   ]
  },
  {
   "cell_type": "code",
   "execution_count": 6,
   "id": "3798d90e",
   "metadata": {
    "execution": {
     "iopub.execute_input": "2025-08-10T21:34:47.494763Z",
     "iopub.status.busy": "2025-08-10T21:34:47.494426Z",
     "iopub.status.idle": "2025-08-10T21:34:47.500174Z",
     "shell.execute_reply": "2025-08-10T21:34:47.499233Z"
    },
    "papermill": {
     "duration": 0.014256,
     "end_time": "2025-08-10T21:34:47.501849",
     "exception": false,
     "start_time": "2025-08-10T21:34:47.487593",
     "status": "completed"
    },
    "tags": []
   },
   "outputs": [],
   "source": [
    "#Copy of training data for exploration\n",
    "train_copy = train_df.copy()"
   ]
  },
  {
   "cell_type": "code",
   "execution_count": 7,
   "id": "8b75872d",
   "metadata": {
    "execution": {
     "iopub.execute_input": "2025-08-10T21:34:47.515198Z",
     "iopub.status.busy": "2025-08-10T21:34:47.514857Z",
     "iopub.status.idle": "2025-08-10T21:34:47.531387Z",
     "shell.execute_reply": "2025-08-10T21:34:47.529803Z"
    },
    "papermill": {
     "duration": 0.025555,
     "end_time": "2025-08-10T21:34:47.533058",
     "exception": false,
     "start_time": "2025-08-10T21:34:47.507503",
     "status": "completed"
    },
    "tags": []
   },
   "outputs": [
    {
     "name": "stdout",
     "output_type": "stream",
     "text": [
      "<class 'pandas.core.frame.DataFrame'>\n",
      "Index: 8693 entries, 0001_01 to 9280_02\n",
      "Data columns (total 13 columns):\n",
      " #   Column        Non-Null Count  Dtype  \n",
      "---  ------        --------------  -----  \n",
      " 0   HomePlanet    8492 non-null   object \n",
      " 1   CryoSleep     8476 non-null   object \n",
      " 2   Cabin         8494 non-null   object \n",
      " 3   Destination   8511 non-null   object \n",
      " 4   Age           8514 non-null   float64\n",
      " 5   VIP           8490 non-null   object \n",
      " 6   RoomService   8512 non-null   float64\n",
      " 7   FoodCourt     8510 non-null   float64\n",
      " 8   ShoppingMall  8485 non-null   float64\n",
      " 9   Spa           8510 non-null   float64\n",
      " 10  VRDeck        8505 non-null   float64\n",
      " 11  Name          8493 non-null   object \n",
      " 12  Transported   8693 non-null   bool   \n",
      "dtypes: bool(1), float64(6), object(6)\n",
      "memory usage: 891.4+ KB\n"
     ]
    }
   ],
   "source": [
    "train_copy.info()"
   ]
  },
  {
   "cell_type": "markdown",
   "id": "f18e5cb2",
   "metadata": {
    "papermill": {
     "duration": 0.00571,
     "end_time": "2025-08-10T21:34:47.544423",
     "exception": false,
     "start_time": "2025-08-10T21:34:47.538713",
     "status": "completed"
    },
    "tags": []
   },
   "source": [
    "<h5>Insights</h5>\n",
    "<ul>\n",
    "    <li>6 string/object type columns</li>\n",
    "    <li>6 numeric/float type columns</li>\n",
    "</ul>"
   ]
  },
  {
   "cell_type": "markdown",
   "id": "718ae6fb",
   "metadata": {
    "papermill": {
     "duration": 0.005869,
     "end_time": "2025-08-10T21:34:47.555851",
     "exception": false,
     "start_time": "2025-08-10T21:34:47.549982",
     "status": "completed"
    },
    "tags": []
   },
   "source": [
    "<h5>Missing values</h5>"
   ]
  },
  {
   "cell_type": "code",
   "execution_count": 8,
   "id": "4922ea41",
   "metadata": {
    "execution": {
     "iopub.execute_input": "2025-08-10T21:34:47.572442Z",
     "iopub.status.busy": "2025-08-10T21:34:47.571247Z",
     "iopub.status.idle": "2025-08-10T21:34:47.595073Z",
     "shell.execute_reply": "2025-08-10T21:34:47.594132Z"
    },
    "papermill": {
     "duration": 0.034197,
     "end_time": "2025-08-10T21:34:47.596931",
     "exception": false,
     "start_time": "2025-08-10T21:34:47.562734",
     "status": "completed"
    },
    "tags": []
   },
   "outputs": [
    {
     "name": "stdout",
     "output_type": "stream",
     "text": [
      "Your selected dataframe has 13 columns.\n",
      "There are 12 columns that have missing values.\n"
     ]
    },
    {
     "data": {
      "text/html": [
       "<div>\n",
       "<style scoped>\n",
       "    .dataframe tbody tr th:only-of-type {\n",
       "        vertical-align: middle;\n",
       "    }\n",
       "\n",
       "    .dataframe tbody tr th {\n",
       "        vertical-align: top;\n",
       "    }\n",
       "\n",
       "    .dataframe thead th {\n",
       "        text-align: right;\n",
       "    }\n",
       "</style>\n",
       "<table border=\"1\" class=\"dataframe\">\n",
       "  <thead>\n",
       "    <tr style=\"text-align: right;\">\n",
       "      <th></th>\n",
       "      <th>Missing Values</th>\n",
       "      <th>% of Total Values</th>\n",
       "    </tr>\n",
       "  </thead>\n",
       "  <tbody>\n",
       "    <tr>\n",
       "      <th>CryoSleep</th>\n",
       "      <td>217</td>\n",
       "      <td>2.5</td>\n",
       "    </tr>\n",
       "    <tr>\n",
       "      <th>ShoppingMall</th>\n",
       "      <td>208</td>\n",
       "      <td>2.4</td>\n",
       "    </tr>\n",
       "    <tr>\n",
       "      <th>VIP</th>\n",
       "      <td>203</td>\n",
       "      <td>2.3</td>\n",
       "    </tr>\n",
       "    <tr>\n",
       "      <th>HomePlanet</th>\n",
       "      <td>201</td>\n",
       "      <td>2.3</td>\n",
       "    </tr>\n",
       "    <tr>\n",
       "      <th>Name</th>\n",
       "      <td>200</td>\n",
       "      <td>2.3</td>\n",
       "    </tr>\n",
       "    <tr>\n",
       "      <th>Cabin</th>\n",
       "      <td>199</td>\n",
       "      <td>2.3</td>\n",
       "    </tr>\n",
       "    <tr>\n",
       "      <th>VRDeck</th>\n",
       "      <td>188</td>\n",
       "      <td>2.2</td>\n",
       "    </tr>\n",
       "    <tr>\n",
       "      <th>FoodCourt</th>\n",
       "      <td>183</td>\n",
       "      <td>2.1</td>\n",
       "    </tr>\n",
       "    <tr>\n",
       "      <th>Spa</th>\n",
       "      <td>183</td>\n",
       "      <td>2.1</td>\n",
       "    </tr>\n",
       "    <tr>\n",
       "      <th>Destination</th>\n",
       "      <td>182</td>\n",
       "      <td>2.1</td>\n",
       "    </tr>\n",
       "    <tr>\n",
       "      <th>RoomService</th>\n",
       "      <td>181</td>\n",
       "      <td>2.1</td>\n",
       "    </tr>\n",
       "    <tr>\n",
       "      <th>Age</th>\n",
       "      <td>179</td>\n",
       "      <td>2.1</td>\n",
       "    </tr>\n",
       "  </tbody>\n",
       "</table>\n",
       "</div>"
      ],
      "text/plain": [
       "              Missing Values  % of Total Values\n",
       "CryoSleep                217                2.5\n",
       "ShoppingMall             208                2.4\n",
       "VIP                      203                2.3\n",
       "HomePlanet               201                2.3\n",
       "Name                     200                2.3\n",
       "Cabin                    199                2.3\n",
       "VRDeck                   188                2.2\n",
       "FoodCourt                183                2.1\n",
       "Spa                      183                2.1\n",
       "Destination              182                2.1\n",
       "RoomService              181                2.1\n",
       "Age                      179                2.1"
      ]
     },
     "execution_count": 8,
     "metadata": {},
     "output_type": "execute_result"
    }
   ],
   "source": [
    "train_missing = missing_values_table(train_copy)\n",
    "train_missing"
   ]
  },
  {
   "cell_type": "code",
   "execution_count": 9,
   "id": "88885fd4",
   "metadata": {
    "execution": {
     "iopub.execute_input": "2025-08-10T21:34:47.611511Z",
     "iopub.status.busy": "2025-08-10T21:34:47.611108Z",
     "iopub.status.idle": "2025-08-10T21:34:48.825654Z",
     "shell.execute_reply": "2025-08-10T21:34:48.824661Z"
    },
    "papermill": {
     "duration": 1.224398,
     "end_time": "2025-08-10T21:34:48.827992",
     "exception": false,
     "start_time": "2025-08-10T21:34:47.603594",
     "status": "completed"
    },
    "tags": []
   },
   "outputs": [
    {
     "data": {
      "text/plain": [
       "<Axes: >"
      ]
     },
     "execution_count": 9,
     "metadata": {},
     "output_type": "execute_result"
    },
    {
     "data": {
      "image/png": "[encoded data removed]",
      "text/plain": [
       "<Figure size 2500x1000 with 3 Axes>"
      ]
     },
     "metadata": {},
     "output_type": "display_data"
    }
   ],
   "source": [
    "msno.bar(train_copy)"
   ]
  },
  {
   "cell_type": "markdown",
   "id": "e32ee5e4",
   "metadata": {
    "papermill": {
     "duration": 0.007086,
     "end_time": "2025-08-10T21:34:48.842979",
     "exception": false,
     "start_time": "2025-08-10T21:34:48.835893",
     "status": "completed"
    },
    "tags": []
   },
   "source": [
    "<h5>Insights</h5>\n",
    "<ul>\n",
    "    <li>Almost all features have missing values</li>\n",
    "    <li>Imputation is necceccary </li>\n",
    "</ul>"
   ]
  },
  {
   "cell_type": "markdown",
   "id": "d13295dc",
   "metadata": {
    "papermill": {
     "duration": 0.007343,
     "end_time": "2025-08-10T21:34:48.857405",
     "exception": false,
     "start_time": "2025-08-10T21:34:48.850062",
     "status": "completed"
    },
    "tags": []
   },
   "source": [
    "<h5>Numeric features</h5>"
   ]
  },
  {
   "cell_type": "code",
   "execution_count": 10,
   "id": "f0d49853",
   "metadata": {
    "execution": {
     "iopub.execute_input": "2025-08-10T21:34:48.873305Z",
     "iopub.status.busy": "2025-08-10T21:34:48.872928Z",
     "iopub.status.idle": "2025-08-10T21:34:49.351012Z",
     "shell.execute_reply": "2025-08-10T21:34:49.349832Z"
    },
    "papermill": {
     "duration": 0.488003,
     "end_time": "2025-08-10T21:34:49.352632",
     "exception": false,
     "start_time": "2025-08-10T21:34:48.864629",
     "status": "completed"
    },
    "tags": []
   },
   "outputs": [
    {
     "name": "stderr",
     "output_type": "stream",
     "text": [
      "/usr/local/lib/python3.11/dist-packages/seaborn/_oldcore.py:1119: FutureWarning: use_inf_as_na option is deprecated and will be removed in a future version. Convert inf values to NaN before operating instead.\n",
      "  with pd.option_context('mode.use_inf_as_na', True):\n",
      "/usr/local/lib/python3.11/dist-packages/seaborn/_oldcore.py:1075: FutureWarning: When grouping with a length-1 list-like, you will need to pass a length-1 tuple to get_group in a future version of pandas. Pass `(name,)` instead of `name` to silence this warning.\n",
      "  data_subset = grouped_data.get_group(pd_key)\n",
      "/usr/local/lib/python3.11/dist-packages/seaborn/_oldcore.py:1075: FutureWarning: When grouping with a length-1 list-like, you will need to pass a length-1 tuple to get_group in a future version of pandas. Pass `(name,)` instead of `name` to silence this warning.\n",
      "  data_subset = grouped_data.get_group(pd_key)\n"
     ]
    },
    {
     "data": {
      "text/plain": [
       "<Axes: xlabel='Age', ylabel='Count'>"
      ]
     },
     "execution_count": 10,
     "metadata": {},
     "output_type": "execute_result"
    },
    {
     "data": {
      "image/png": "[encoded data removed]",
      "text/plain": [
       "<Figure size 640x480 with 1 Axes>"
      ]
     },
     "metadata": {},
     "output_type": "display_data"
    }
   ],
   "source": [
    "sns.histplot(train_df, x='Age', hue='Transported', kde=True, bins=20, palette='Set2')"
   ]
  },
  {
   "cell_type": "code",
   "execution_count": 11,
   "id": "f798f63d",
   "metadata": {
    "execution": {
     "iopub.execute_input": "2025-08-10T21:34:49.370472Z",
     "iopub.status.busy": "2025-08-10T21:34:49.370118Z",
     "iopub.status.idle": "2025-08-10T21:34:49.792436Z",
     "shell.execute_reply": "2025-08-10T21:34:49.791529Z"
    },
    "papermill": {
     "duration": 0.432944,
     "end_time": "2025-08-10T21:34:49.794082",
     "exception": false,
     "start_time": "2025-08-10T21:34:49.361138",
     "status": "completed"
    },
    "tags": []
   },
   "outputs": [
    {
     "name": "stderr",
     "output_type": "stream",
     "text": [
      "/usr/local/lib/python3.11/dist-packages/seaborn/_oldcore.py:1119: FutureWarning: use_inf_as_na option is deprecated and will be removed in a future version. Convert inf values to NaN before operating instead.\n",
      "  with pd.option_context('mode.use_inf_as_na', True):\n",
      "/usr/local/lib/python3.11/dist-packages/seaborn/_oldcore.py:1075: FutureWarning: When grouping with a length-1 list-like, you will need to pass a length-1 tuple to get_group in a future version of pandas. Pass `(name,)` instead of `name` to silence this warning.\n",
      "  data_subset = grouped_data.get_group(pd_key)\n",
      "/usr/local/lib/python3.11/dist-packages/seaborn/_oldcore.py:1075: FutureWarning: When grouping with a length-1 list-like, you will need to pass a length-1 tuple to get_group in a future version of pandas. Pass `(name,)` instead of `name` to silence this warning.\n",
      "  data_subset = grouped_data.get_group(pd_key)\n"
     ]
    },
    {
     "data": {
      "text/plain": [
       "<Axes: xlabel='VRDeck', ylabel='Count'>"
      ]
     },
     "execution_count": 11,
     "metadata": {},
     "output_type": "execute_result"
    },
    {
     "data": {
      "image/png": "[encoded data removed]",
      "text/plain": [
       "<Figure size 640x480 with 1 Axes>"
      ]
     },
     "metadata": {},
     "output_type": "display_data"
    }
   ],
   "source": [
    "num_feature = 'VRDeck'\n",
    "sns.histplot(train_df, x=num_feature, hue='Transported', kde=True, bins=20, palette='Set2')"
   ]
  },
  {
   "cell_type": "markdown",
   "id": "d44c4cd6",
   "metadata": {
    "papermill": {
     "duration": 0.009211,
     "end_time": "2025-08-10T21:34:49.812350",
     "exception": false,
     "start_time": "2025-08-10T21:34:49.803139",
     "status": "completed"
    },
    "tags": []
   },
   "source": [
    "<h5>Insights</h5>\n",
    "<ul>\n",
    "    <li>Seems like for ages before 18 have higher prob of being tranported, 20-40 have less, and 40+ are 50/50. </li>\n",
    "    <li>Mostly \"poor\" people that were transported</li>\n",
    "    <li>Age and the other attributes have very different scales</li>\n",
    "    <li>Few outliers</li>\n",
    "    <li>Except for age, features are exponential distrubuted</li>\n",
    "    <li>Age is approximately Gaussian</li>\n",
    "</ul>"
   ]
  },
  {
   "cell_type": "markdown",
   "id": "f918796d",
   "metadata": {
    "papermill": {
     "duration": 0.008487,
     "end_time": "2025-08-10T21:34:49.829377",
     "exception": false,
     "start_time": "2025-08-10T21:34:49.820890",
     "status": "completed"
    },
    "tags": []
   },
   "source": [
    "<h5>Categorical features</h5>"
   ]
  },
  {
   "cell_type": "code",
   "execution_count": 12,
   "id": "a69cd3a8",
   "metadata": {
    "execution": {
     "iopub.execute_input": "2025-08-10T21:34:49.848451Z",
     "iopub.status.busy": "2025-08-10T21:34:49.847657Z",
     "iopub.status.idle": "2025-08-10T21:34:50.060350Z",
     "shell.execute_reply": "2025-08-10T21:34:50.059334Z"
    },
    "papermill": {
     "duration": 0.223867,
     "end_time": "2025-08-10T21:34:50.061928",
     "exception": false,
     "start_time": "2025-08-10T21:34:49.838061",
     "status": "completed"
    },
    "tags": []
   },
   "outputs": [
    {
     "data": {
      "text/plain": [
       "<Axes: xlabel='VIP', ylabel='count'>"
      ]
     },
     "execution_count": 12,
     "metadata": {},
     "output_type": "execute_result"
    },
    {
     "data": {
      "image/png": "[encoded data removed]",
      "text/plain": [
       "<Figure size 640x480 with 1 Axes>"
      ]
     },
     "metadata": {},
     "output_type": "display_data"
    }
   ],
   "source": [
    "\n",
    "cat_feature = 'VIP'\n",
    "sns.countplot(data=train_copy, x=cat_feature, hue='Transported', palette='Set1')"
   ]
  },
  {
   "cell_type": "markdown",
   "id": "83476c4c",
   "metadata": {
    "papermill": {
     "duration": 0.008839,
     "end_time": "2025-08-10T21:34:50.080064",
     "exception": false,
     "start_time": "2025-08-10T21:34:50.071225",
     "status": "completed"
    },
    "tags": []
   },
   "source": [
    "<h5>Insights</h5>\n",
    "<ul>\n",
    "    <li>People from earth were less likely to be transported, Europe more, and Mars 50/50</li>\n",
    "    <li>Those in Cryosleep were more likely to be transported</li>\n",
    "    <li>Destination, VIP and NAME not a useful feature</li>\n",
    "    <li>Not explored: Cabin and Name </li>\n",
    "</ul>"
   ]
  },
  {
   "cell_type": "markdown",
   "id": "62fbf27a",
   "metadata": {
    "papermill": {
     "duration": 0.00941,
     "end_time": "2025-08-10T21:34:50.098626",
     "exception": false,
     "start_time": "2025-08-10T21:34:50.089216",
     "status": "completed"
    },
    "tags": []
   },
   "source": [
    "<h1>3. Preparing the data</h1>"
   ]
  },
  {
   "cell_type": "markdown",
   "id": "92d04b03",
   "metadata": {
    "papermill": {
     "duration": 0.00875,
     "end_time": "2025-08-10T21:34:50.116481",
     "exception": false,
     "start_time": "2025-08-10T21:34:50.107731",
     "status": "completed"
    },
    "tags": []
   },
   "source": [
    "<h4>Custom transformers to add extra attributes</h4>"
   ]
  },
  {
   "cell_type": "code",
   "execution_count": 13,
   "id": "aa29213e",
   "metadata": {
    "execution": {
     "iopub.execute_input": "2025-08-10T21:34:50.136562Z",
     "iopub.status.busy": "2025-08-10T21:34:50.135950Z",
     "iopub.status.idle": "2025-08-10T21:34:50.142265Z",
     "shell.execute_reply": "2025-08-10T21:34:50.141211Z"
    },
    "papermill": {
     "duration": 0.018393,
     "end_time": "2025-08-10T21:34:50.143951",
     "exception": false,
     "start_time": "2025-08-10T21:34:50.125558",
     "status": "completed"
    },
    "tags": []
   },
   "outputs": [],
   "source": [
    "class CombinedAttributesAdder(BaseEstimator, TransformerMixin):\n",
    "    def __init__(self): # no *args or **kargs\n",
    "        self.add_bedrooms_per_room = add_bedrooms_per_room\n",
    "    def fit(self, X, y=None):\n",
    "        return self  # nothing else to do\n",
    "    def transform(self, X):\n",
    "        return np.c_[X]"
   ]
  },
  {
   "cell_type": "code",
   "execution_count": 14,
   "id": "743b2e0e",
   "metadata": {
    "execution": {
     "iopub.execute_input": "2025-08-10T21:34:50.165777Z",
     "iopub.status.busy": "2025-08-10T21:34:50.165484Z",
     "iopub.status.idle": "2025-08-10T21:34:50.171845Z",
     "shell.execute_reply": "2025-08-10T21:34:50.170614Z"
    },
    "papermill": {
     "duration": 0.019898,
     "end_time": "2025-08-10T21:34:50.173846",
     "exception": false,
     "start_time": "2025-08-10T21:34:50.153948",
     "status": "completed"
    },
    "tags": []
   },
   "outputs": [],
   "source": [
    "num_pipeline = Pipeline([\n",
    "        (\"imputer\", SimpleImputer(strategy=\"median\")),\n",
    "        (\"scaler\", StandardScaler())\n",
    "    ])\n",
    "\n",
    "cat_pipeline = Pipeline([\n",
    "        (\"imputer\", SimpleImputer(strategy=\"most_frequent\")),\n",
    "        (\"cat_encoder\", OneHotEncoder(sparse=False, handle_unknown='ignore')),\n",
    "    ])\n"
   ]
  },
  {
   "cell_type": "code",
   "execution_count": 15,
   "id": "d819b572",
   "metadata": {
    "execution": {
     "iopub.execute_input": "2025-08-10T21:34:50.194218Z",
     "iopub.status.busy": "2025-08-10T21:34:50.193818Z",
     "iopub.status.idle": "2025-08-10T21:34:50.200242Z",
     "shell.execute_reply": "2025-08-10T21:34:50.199197Z"
    },
    "papermill": {
     "duration": 0.018102,
     "end_time": "2025-08-10T21:34:50.201914",
     "exception": false,
     "start_time": "2025-08-10T21:34:50.183812",
     "status": "completed"
    },
    "tags": []
   },
   "outputs": [],
   "source": [
    "num_features = ['Age', 'RoomService', 'FoodCourt', 'ShoppingMall', 'Spa', 'VRDeck']\n",
    "cat_features = ['HomePlanet', 'CryoSleep', 'Cabin']\n",
    "\n",
    "preprocess_pipeline = ColumnTransformer([\n",
    "        (\"num\", num_pipeline, num_features),\n",
    "        (\"cat\", cat_pipeline, cat_features),\n",
    "    ])"
   ]
  },
  {
   "cell_type": "code",
   "execution_count": 16,
   "id": "c18fa721",
   "metadata": {
    "execution": {
     "iopub.execute_input": "2025-08-10T21:34:50.223626Z",
     "iopub.status.busy": "2025-08-10T21:34:50.222939Z",
     "iopub.status.idle": "2025-08-10T21:34:50.815917Z",
     "shell.execute_reply": "2025-08-10T21:34:50.814891Z"
    },
    "papermill": {
     "duration": 0.606125,
     "end_time": "2025-08-10T21:34:50.817826",
     "exception": false,
     "start_time": "2025-08-10T21:34:50.211701",
     "status": "completed"
    },
    "tags": []
   },
   "outputs": [
    {
     "name": "stderr",
     "output_type": "stream",
     "text": [
      "/usr/local/lib/python3.11/dist-packages/sklearn/preprocessing/_encoders.py:868: FutureWarning: `sparse` was renamed to `sparse_output` in version 1.2 and will be removed in 1.4. `sparse_output` is ignored unless you leave `sparse` to its default value.\n",
      "  warnings.warn(\n"
     ]
    }
   ],
   "source": [
    "# Separate the features and the target\n",
    "X_train = train_df.drop(columns=['Transported'])  # All columns except the target\n",
    "y_train = train_df['Transported']  # The target column\n",
    "\n",
    "# Apply the preprocessing pipeline to X_train\n",
    "X_train = preprocess_pipeline.fit_transform(X_train[num_features + cat_features])\n"
   ]
  },
  {
   "cell_type": "markdown",
   "id": "d8555291",
   "metadata": {
    "papermill": {
     "duration": 0.008789,
     "end_time": "2025-08-10T21:34:50.836051",
     "exception": false,
     "start_time": "2025-08-10T21:34:50.827262",
     "status": "completed"
    },
    "tags": []
   },
   "source": [
    "<h1>4. Traing the model and predictions</h1>"
   ]
  },
  {
   "cell_type": "code",
   "execution_count": 17,
   "id": "7c6f0e4b",
   "metadata": {
    "execution": {
     "iopub.execute_input": "2025-08-10T21:34:50.855814Z",
     "iopub.status.busy": "2025-08-10T21:34:50.855513Z",
     "iopub.status.idle": "2025-08-10T21:35:33.945935Z",
     "shell.execute_reply": "2025-08-10T21:35:33.944898Z"
    },
    "papermill": {
     "duration": 43.111694,
     "end_time": "2025-08-10T21:35:33.956970",
     "exception": false,
     "start_time": "2025-08-10T21:34:50.845276",
     "status": "completed"
    },
    "tags": []
   },
   "outputs": [
    {
     "data": {
      "text/html": [
       "<style>#sk-container-id-1 {color: black;background-color: white;}#sk-container-id-1 pre{padding: 0;}#sk-container-id-1 div.sk-toggleable {background-color: white;}#sk-container-id-1 label.sk-toggleable__label {cursor: pointer;display: block;width: 100%;margin-bottom: 0;padding: 0.3em;box-sizing: border-box;text-align: center;}#sk-container-id-1 label.sk-toggleable__label-arrow:before {content: \"▸\";float: left;margin-right: 0.25em;color: #696969;}#sk-container-id-1 label.sk-toggleable__label-arrow:hover:before {color: black;}#sk-container-id-1 div.sk-estimator:hover label.sk-toggleable__label-arrow:before {color: black;}#sk-container-id-1 div.sk-toggleable__content {max-height: 0;max-width: 0;overflow: hidden;text-align: left;background-color: #f0f8ff;}#sk-container-id-1 div.sk-toggleable__content pre {margin: 0.2em;color: black;border-radius: 0.25em;background-color: #f0f8ff;}#sk-container-id-1 input.sk-toggleable__control:checked~div.sk-toggleable__content {max-height: 200px;max-width: 100%;overflow: auto;}#sk-container-id-1 input.sk-toggleable__control:checked~label.sk-toggleable__label-arrow:before {content: \"▾\";}#sk-container-id-1 div.sk-estimator input.sk-toggleable__control:checked~label.sk-toggleable__label {background-color: #d4ebff;}#sk-container-id-1 div.sk-label input.sk-toggleable__control:checked~label.sk-toggleable__label {background-color: #d4ebff;}#sk-container-id-1 input.sk-hidden--visually {border: 0;clip: rect(1px 1px 1px 1px);clip: rect(1px, 1px, 1px, 1px);height: 1px;margin: -1px;overflow: hidden;padding: 0;position: absolute;width: 1px;}#sk-container-id-1 div.sk-estimator {font-family: monospace;background-color: #f0f8ff;border: 1px dotted black;border-radius: 0.25em;box-sizing: border-box;margin-bottom: 0.5em;}#sk-container-id-1 div.sk-estimator:hover {background-color: #d4ebff;}#sk-container-id-1 div.sk-parallel-item::after {content: \"\";width: 100%;border-bottom: 1px solid gray;flex-grow: 1;}#sk-container-id-1 div.sk-label:hover label.sk-toggleable__label {background-color: #d4ebff;}#sk-container-id-1 div.sk-serial::before {content: \"\";position: absolute;border-left: 1px solid gray;box-sizing: border-box;top: 0;bottom: 0;left: 50%;z-index: 0;}#sk-container-id-1 div.sk-serial {display: flex;flex-direction: column;align-items: center;background-color: white;padding-right: 0.2em;padding-left: 0.2em;position: relative;}#sk-container-id-1 div.sk-item {position: relative;z-index: 1;}#sk-container-id-1 div.sk-parallel {display: flex;align-items: stretch;justify-content: center;background-color: white;position: relative;}#sk-container-id-1 div.sk-item::before, #sk-container-id-1 div.sk-parallel-item::before {content: \"\";position: absolute;border-left: 1px solid gray;box-sizing: border-box;top: 0;bottom: 0;left: 50%;z-index: -1;}#sk-container-id-1 div.sk-parallel-item {display: flex;flex-direction: column;z-index: 1;position: relative;background-color: white;}#sk-container-id-1 div.sk-parallel-item:first-child::after {align-self: flex-end;width: 50%;}#sk-container-id-1 div.sk-parallel-item:last-child::after {align-self: flex-start;width: 50%;}#sk-container-id-1 div.sk-parallel-item:only-child::after {width: 0;}#sk-container-id-1 div.sk-dashed-wrapped {border: 1px dashed gray;margin: 0 0.4em 0.5em 0.4em;box-sizing: border-box;padding-bottom: 0.4em;background-color: white;}#sk-container-id-1 div.sk-label label {font-family: monospace;font-weight: bold;display: inline-block;line-height: 1.2em;}#sk-container-id-1 div.sk-label-container {text-align: center;}#sk-container-id-1 div.sk-container {/* jupyter's `normalize.less` sets `[hidden] { display: none; }` but bootstrap.min.css set `[hidden] { display: none !important; }` so we also need the `!important` here to be able to override the default hidden behavior on the sphinx rendered scikit-learn.org. See: https://github.com/scikit-learn/scikit-learn/issues/21755 */display: inline-block !important;position: relative;}#sk-container-id-1 div.sk-text-repr-fallback {display: none;}</style><div id=\"sk-container-id-1\" class=\"sk-top-container\"><div class=\"sk-text-repr-fallback\"><pre>RandomForestClassifier(random_state=42)</pre><b>In a Jupyter environment, please rerun this cell to show the HTML representation or trust the notebook. <br />On GitHub, the HTML representation is unable to render, please try loading this page with nbviewer.org.</b></div><div class=\"sk-container\" hidden><div class=\"sk-item\"><div class=\"sk-estimator sk-toggleable\"><input class=\"sk-toggleable__control sk-hidden--visually\" id=\"sk-estimator-id-1\" type=\"checkbox\" checked><label for=\"sk-estimator-id-1\" class=\"sk-toggleable__label sk-toggleable__label-arrow\">RandomForestClassifier</label><div class=\"sk-toggleable__content\"><pre>RandomForestClassifier(random_state=42)</pre></div></div></div></div></div>"
      ],
      "text/plain": [
       "RandomForestClassifier(random_state=42)"
      ]
     },
     "execution_count": 17,
     "metadata": {},
     "output_type": "execute_result"
    }
   ],
   "source": [
    "forest_clf = RandomForestClassifier(n_estimators=100, random_state=42)\n",
    "forest_clf.fit(X_train, y_train)"
   ]
  },
  {
   "cell_type": "code",
   "execution_count": 18,
   "id": "c2742c5c",
   "metadata": {
    "execution": {
     "iopub.execute_input": "2025-08-10T21:35:33.977877Z",
     "iopub.status.busy": "2025-08-10T21:35:33.977549Z",
     "iopub.status.idle": "2025-08-10T21:36:46.654785Z",
     "shell.execute_reply": "2025-08-10T21:36:46.653819Z"
    },
    "papermill": {
     "duration": 72.700178,
     "end_time": "2025-08-10T21:36:46.666844",
     "exception": false,
     "start_time": "2025-08-10T21:35:33.966666",
     "status": "completed"
    },
    "tags": []
   },
   "outputs": [
    {
     "data": {
      "text/plain": [
       "0.7877617700072714"
      ]
     },
     "execution_count": 18,
     "metadata": {},
     "output_type": "execute_result"
    }
   ],
   "source": [
    "forest_scores = cross_val_score(forest_clf, X_train, y_train, cv=3)\n",
    "forest_scores.mean()"
   ]
  },
  {
   "cell_type": "code",
   "execution_count": 19,
   "id": "3b195d82",
   "metadata": {
    "execution": {
     "iopub.execute_input": "2025-08-10T21:36:46.688039Z",
     "iopub.status.busy": "2025-08-10T21:36:46.687705Z",
     "iopub.status.idle": "2025-08-10T21:36:47.744625Z",
     "shell.execute_reply": "2025-08-10T21:36:47.743440Z"
    },
    "papermill": {
     "duration": 1.069887,
     "end_time": "2025-08-10T21:36:47.746602",
     "exception": false,
     "start_time": "2025-08-10T21:36:46.676715",
     "status": "completed"
    },
    "tags": []
   },
   "outputs": [],
   "source": [
    "\n",
    "X_test = preprocess_pipeline.transform(test_df[num_features + cat_features])\n",
    "y_pred = forest_clf.predict(X_test)"
   ]
  },
  {
   "cell_type": "code",
   "execution_count": 20,
   "id": "3f2e2ad4",
   "metadata": {
    "execution": {
     "iopub.execute_input": "2025-08-10T21:36:47.770655Z",
     "iopub.status.busy": "2025-08-10T21:36:47.769709Z",
     "iopub.status.idle": "2025-08-10T21:36:47.787616Z",
     "shell.execute_reply": "2025-08-10T21:36:47.786214Z"
    },
    "papermill": {
     "duration": 0.031647,
     "end_time": "2025-08-10T21:36:47.789510",
     "exception": false,
     "start_time": "2025-08-10T21:36:47.757863",
     "status": "completed"
    },
    "tags": []
   },
   "outputs": [
    {
     "name": "stdout",
     "output_type": "stream",
     "text": [
      "             Transported\n",
      "PassengerId             \n",
      "0013_01             True\n",
      "0018_01            False\n",
      "0019_01             True\n",
      "0021_01             True\n",
      "0023_01            False\n"
     ]
    }
   ],
   "source": [
    "# Step 1: Create a DataFrame with 'Transported' prediction results, using the index from test_df\n",
    "predictions_df = pd.DataFrame({\n",
    "    'Transported': y_pred\n",
    "}, index=test_df.index)  # Use the index (PassengerId) from test_df\n",
    "\n",
    "# Step 2: Save the DataFrame to a CSV file without writing the index as a column\n",
    "predictions_df.to_csv('predictions.csv')\n",
    "\n",
    "# Optionally, print the first few rows to check\n",
    "print(predictions_df.head())"
   ]
  }
 ],
 "metadata": {
  "kaggle": {
   "accelerator": "none",
   "dataSources": [
    {
     "databundleVersionId": 3220602,
     "sourceId": 34377,
     "sourceType": "competition"
    }
   ],
   "dockerImageVersionId": 31089,
   "isGpuEnabled": false,
   "isInternetEnabled": true,
   "language": "python",
   "sourceType": "notebook"
  },
  "kernelspec": {
   "display_name": "Python 3",
   "language": "python",
   "name": "python3"
  },
  "language_info": {
   "codemirror_mode": {
    "name": "ipython",
    "version": 3
   },
   "file_extension": ".py",
   "mimetype": "text/x-python",
   "name": "python",
   "nbconvert_exporter": "python",
   "pygments_lexer": "ipython3",
   "version": "3.11.13"
  },
  "papermill": {
   "default_parameters": {},
   "duration": 132.220685,
   "end_time": "2025-08-10T21:36:48.622758",
   "environment_variables": {},
   "exception": null,
   "input_path": "__notebook__.ipynb",
   "output_path": "__notebook__.ipynb",
   "parameters": {},
   "start_time": "2025-08-10T21:34:36.402073",
   "version": "2.6.0"
  }
 },
 "nbformat": 4,
 "nbformat_minor": 5
}
